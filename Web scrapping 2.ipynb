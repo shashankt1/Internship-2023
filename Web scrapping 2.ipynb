{
 "cells": [
  {
   "cell_type": "code",
   "execution_count": 12,
   "metadata": {},
   "outputs": [
    {
     "name": "stdout",
     "output_type": "stream",
     "text": [
      "Requirement already satisfied: selenium in c:\\users\\shash\\anaconda3\\lib\\site-packages (4.6.0)\n",
      "Requirement already satisfied: trio-websocket~=0.9 in c:\\users\\shash\\anaconda3\\lib\\site-packages (from selenium) (0.9.2)\n",
      "Requirement already satisfied: certifi>=2021.10.8 in c:\\users\\shash\\anaconda3\\lib\\site-packages (from selenium) (2022.9.24)"
     ]
    },
    {
     "name": "stderr",
     "output_type": "stream",
     "text": [
      "ERROR: After October 2020 you may experience errors when installing or updating packages. This is because pip will change the way that it resolves dependency conflicts.\n",
      "\n",
      "We recommend you use --use-feature=2020-resolver to test your packages with the new resolver before it becomes the default.\n",
      "\n",
      "requests 2.24.0 requires urllib3!=1.25.0,!=1.25.1,<1.26,>=1.21.1, but you'll have urllib3 1.26.16 which is incompatible.\n"
     ]
    },
    {
     "name": "stdout",
     "output_type": "stream",
     "text": [
      "\n",
      "Collecting urllib3[socks]~=1.26\n",
      "  Downloading urllib3-1.26.16-py2.py3-none-any.whl (143 kB)\n",
      "Requirement already satisfied: trio~=0.17 in c:\\users\\shash\\anaconda3\\lib\\site-packages (from selenium) (0.22.0)\n",
      "Requirement already satisfied: async-generator>=1.10 in c:\\users\\shash\\anaconda3\\lib\\site-packages (from trio-websocket~=0.9->selenium) (1.10)\n",
      "Requirement already satisfied: wsproto>=0.14 in c:\\users\\shash\\anaconda3\\lib\\site-packages (from trio-websocket~=0.9->selenium) (1.2.0)\n",
      "Requirement already satisfied: PySocks!=1.5.7,<2.0,>=1.5.6; extra == \"socks\" in c:\\users\\shash\\anaconda3\\lib\\site-packages (from urllib3[socks]~=1.26->selenium) (1.7.1)\n",
      "Requirement already satisfied: attrs>=19.2.0 in c:\\users\\shash\\anaconda3\\lib\\site-packages (from trio~=0.17->selenium) (20.3.0)\n",
      "Requirement already satisfied: sortedcontainers in c:\\users\\shash\\anaconda3\\lib\\site-packages (from trio~=0.17->selenium) (2.2.2)\n",
      "Requirement already satisfied: outcome in c:\\users\\shash\\anaconda3\\lib\\site-packages (from trio~=0.17->selenium) (1.2.0)\n",
      "Requirement already satisfied: sniffio in c:\\users\\shash\\anaconda3\\lib\\site-packages (from trio~=0.17->selenium) (1.3.0)\n",
      "Requirement already satisfied: idna in c:\\users\\shash\\anaconda3\\lib\\site-packages (from trio~=0.17->selenium) (2.10)\n",
      "Requirement already satisfied: cffi>=1.14; os_name == \"nt\" and implementation_name != \"pypy\" in c:\\users\\shash\\anaconda3\\lib\\site-packages (from trio~=0.17->selenium) (1.14.3)\n",
      "Requirement already satisfied: exceptiongroup>=1.0.0rc9; python_version < \"3.11\" in c:\\users\\shash\\anaconda3\\lib\\site-packages (from trio~=0.17->selenium) (1.0.1)\n",
      "Requirement already satisfied: h11<1,>=0.9.0 in c:\\users\\shash\\anaconda3\\lib\\site-packages (from wsproto>=0.14->trio-websocket~=0.9->selenium) (0.14.0)\n",
      "Requirement already satisfied: pycparser in c:\\users\\shash\\anaconda3\\lib\\site-packages (from cffi>=1.14; os_name == \"nt\" and implementation_name != \"pypy\"->trio~=0.17->selenium) (2.20)\n",
      "Installing collected packages: urllib3\n",
      "  Attempting uninstall: urllib3\n",
      "    Found existing installation: urllib3 1.25.11\n",
      "    Uninstalling urllib3-1.25.11:\n",
      "      Successfully uninstalled urllib3-1.25.11\n",
      "Successfully installed urllib3-1.26.16\n"
     ]
    }
   ],
   "source": [
    "!pip install selenium"
   ]
  },
  {
   "cell_type": "code",
   "execution_count": 13,
   "metadata": {},
   "outputs": [],
   "source": [
    "import selenium\n",
    "from selenium import webdriver\n",
    "import pandas as pd\n",
    "from selenium.webdriver.common.by import By\n",
    "import warnings\n",
    "warnings.filterwarnings(\"ignore\")\n",
    "import time"
   ]
  },
  {
   "cell_type": "code",
   "execution_count": 20,
   "metadata": {},
   "outputs": [],
   "source": [
    "driver = webdriver.Chrome(r\"C:\\Users\\shash\\OneDrive\\Desktop\\chromedriver_win32\\chromedriver.exe\")"
   ]
  },
  {
   "cell_type": "code",
   "execution_count": 21,
   "metadata": {},
   "outputs": [],
   "source": [
    "url = 'https://www.naukri.com/'\n",
    "driver.get(url)"
   ]
  },
  {
   "cell_type": "code",
   "execution_count": 22,
   "metadata": {},
   "outputs": [],
   "source": [
    "search_jobs = driver.find_element(By.CLASS_NAME,\"suggestor-input\")\n",
    "search_jobs.send_keys(\"Data Analyst\")"
   ]
  },
  {
   "cell_type": "code",
   "execution_count": 24,
   "metadata": {},
   "outputs": [],
   "source": [
    "search_locn = driver.find_element(By.XPATH,'//*[@id=\"root\"]/div[7]/div/div/div[5]/div/div/div/div[1]/div/input')\n",
    "search_locn.send_keys(\"Bangalore/Bengaluru\")"
   ]
  },
  {
   "cell_type": "code",
   "execution_count": 25,
   "metadata": {},
   "outputs": [],
   "source": [
    "search_btn = driver.find_element(By.CLASS_NAME, \"qsbSubmit\")\n",
    "search_btn.click()"
   ]
  },
  {
   "cell_type": "code",
   "execution_count": 33,
   "metadata": {},
   "outputs": [
    {
     "data": {
      "text/plain": [
       "[<selenium.webdriver.remote.webelement.WebElement (session=\"e43cb41b9aa1690f9e7330648fd556b0\", element=\"25A76DF3F6878BE808826D19EEACC424_element_506\")>,\n",
       " <selenium.webdriver.remote.webelement.WebElement (session=\"e43cb41b9aa1690f9e7330648fd556b0\", element=\"25A76DF3F6878BE808826D19EEACC424_element_464\")>,\n",
       " <selenium.webdriver.remote.webelement.WebElement (session=\"e43cb41b9aa1690f9e7330648fd556b0\", element=\"25A76DF3F6878BE808826D19EEACC424_element_463\")>,\n",
       " <selenium.webdriver.remote.webelement.WebElement (session=\"e43cb41b9aa1690f9e7330648fd556b0\", element=\"25A76DF3F6878BE808826D19EEACC424_element_512\")>,\n",
       " <selenium.webdriver.remote.webelement.WebElement (session=\"e43cb41b9aa1690f9e7330648fd556b0\", element=\"25A76DF3F6878BE808826D19EEACC424_element_513\")>,\n",
       " <selenium.webdriver.remote.webelement.WebElement (session=\"e43cb41b9aa1690f9e7330648fd556b0\", element=\"25A76DF3F6878BE808826D19EEACC424_element_514\")>,\n",
       " <selenium.webdriver.remote.webelement.WebElement (session=\"e43cb41b9aa1690f9e7330648fd556b0\", element=\"25A76DF3F6878BE808826D19EEACC424_element_515\")>,\n",
       " <selenium.webdriver.remote.webelement.WebElement (session=\"e43cb41b9aa1690f9e7330648fd556b0\", element=\"25A76DF3F6878BE808826D19EEACC424_element_516\")>,\n",
       " <selenium.webdriver.remote.webelement.WebElement (session=\"e43cb41b9aa1690f9e7330648fd556b0\", element=\"25A76DF3F6878BE808826D19EEACC424_element_517\")>,\n",
       " <selenium.webdriver.remote.webelement.WebElement (session=\"e43cb41b9aa1690f9e7330648fd556b0\", element=\"25A76DF3F6878BE808826D19EEACC424_element_518\")>,\n",
       " <selenium.webdriver.remote.webelement.WebElement (session=\"e43cb41b9aa1690f9e7330648fd556b0\", element=\"25A76DF3F6878BE808826D19EEACC424_element_519\")>,\n",
       " <selenium.webdriver.remote.webelement.WebElement (session=\"e43cb41b9aa1690f9e7330648fd556b0\", element=\"25A76DF3F6878BE808826D19EEACC424_element_520\")>,\n",
       " <selenium.webdriver.remote.webelement.WebElement (session=\"e43cb41b9aa1690f9e7330648fd556b0\", element=\"25A76DF3F6878BE808826D19EEACC424_element_521\")>,\n",
       " <selenium.webdriver.remote.webelement.WebElement (session=\"e43cb41b9aa1690f9e7330648fd556b0\", element=\"25A76DF3F6878BE808826D19EEACC424_element_522\")>,\n",
       " <selenium.webdriver.remote.webelement.WebElement (session=\"e43cb41b9aa1690f9e7330648fd556b0\", element=\"25A76DF3F6878BE808826D19EEACC424_element_523\")>,\n",
       " <selenium.webdriver.remote.webelement.WebElement (session=\"e43cb41b9aa1690f9e7330648fd556b0\", element=\"25A76DF3F6878BE808826D19EEACC424_element_524\")>,\n",
       " <selenium.webdriver.remote.webelement.WebElement (session=\"e43cb41b9aa1690f9e7330648fd556b0\", element=\"25A76DF3F6878BE808826D19EEACC424_element_525\")>,\n",
       " <selenium.webdriver.remote.webelement.WebElement (session=\"e43cb41b9aa1690f9e7330648fd556b0\", element=\"25A76DF3F6878BE808826D19EEACC424_element_526\")>,\n",
       " <selenium.webdriver.remote.webelement.WebElement (session=\"e43cb41b9aa1690f9e7330648fd556b0\", element=\"25A76DF3F6878BE808826D19EEACC424_element_527\")>,\n",
       " <selenium.webdriver.remote.webelement.WebElement (session=\"e43cb41b9aa1690f9e7330648fd556b0\", element=\"25A76DF3F6878BE808826D19EEACC424_element_528\")>]"
      ]
     },
     "execution_count": 33,
     "metadata": {},
     "output_type": "execute_result"
    }
   ],
   "source": [
    "title_tags=driver.find_elements(By.XPATH, '//a[@class=\"title ellipsis\"]')\n",
    "title_tags"
   ]
  },
  {
   "cell_type": "code",
   "execution_count": 35,
   "metadata": {},
   "outputs": [
    {
     "data": {
      "text/plain": [
       "['Data Analyst',\n",
       " 'Tech Data Analyst',\n",
       " 'Data Analyst',\n",
       " 'Data Analyst',\n",
       " 'Celonis & Salesforce Data Analyst',\n",
       " 'Celonis & Salesforce Data Analyst',\n",
       " 'Data Analyst',\n",
       " 'Data Analyst',\n",
       " 'Data Analyst',\n",
       " 'Data Analyst']"
      ]
     },
     "execution_count": 35,
     "metadata": {},
     "output_type": "execute_result"
    }
   ],
   "source": [
    "job_titles=[]\n",
    "for i in title_tags:\n",
    "    if i.text is None:\n",
    "        job_titles.append('Not')\n",
    "    else:\n",
    "        job_titles.append(i.text)\n",
    "job_titles[0:10]"
   ]
  },
  {
   "cell_type": "code",
   "execution_count": 36,
   "metadata": {},
   "outputs": [
    {
     "data": {
      "text/plain": [
       "['Data Analyst',\n",
       " 'Tech Data Analyst',\n",
       " 'Data Analyst',\n",
       " 'Data Analyst',\n",
       " 'Celonis & Salesforce Data Analyst',\n",
       " 'Celonis & Salesforce Data Analyst',\n",
       " 'Data Analyst',\n",
       " 'Data Analyst',\n",
       " 'Data Analyst',\n",
       " 'Data Analyst',\n",
       " 'Data Analyst (Bangalore)',\n",
       " 'Insight Data Analyst',\n",
       " 'Data Analyst',\n",
       " 'Data Analyst',\n",
       " 'Data Analyst',\n",
       " 'Data Analyst',\n",
       " 'Data Analyst',\n",
       " 'Data Analyst',\n",
       " 'Data Analyst',\n",
       " 'Hiring For Data analyst- Bangalore']"
      ]
     },
     "execution_count": 36,
     "metadata": {},
     "output_type": "execute_result"
    }
   ],
   "source": [
    "job_titles"
   ]
  },
  {
   "cell_type": "code",
   "execution_count": 37,
   "metadata": {},
   "outputs": [],
   "source": [
    "company_names =[]\n",
    "company_tags = driver.find_elements(By.XPATH,'//a[@class=\"subTitle ellipsis fleft\"]')\n",
    "for i in company_tags:\n",
    "    company_names.append(i.text)\n",
    "    company_names"
   ]
  },
  {
   "cell_type": "code",
   "execution_count": 38,
   "metadata": {},
   "outputs": [
    {
     "data": {
      "text/plain": [
       "20"
      ]
     },
     "execution_count": 38,
     "metadata": {},
     "output_type": "execute_result"
    }
   ],
   "source": [
    "len(company_names)"
   ]
  },
  {
   "cell_type": "code",
   "execution_count": 39,
   "metadata": {},
   "outputs": [],
   "source": [
    "jobs = pd.DataFrame()\n",
    "jobs['Job Title'] = job_titles\n",
    "jobs['Company'] = company_names"
   ]
  },
  {
   "cell_type": "code",
   "execution_count": 40,
   "metadata": {},
   "outputs": [
    {
     "data": {
      "text/html": [
       "<div>\n",
       "<style scoped>\n",
       "    .dataframe tbody tr th:only-of-type {\n",
       "        vertical-align: middle;\n",
       "    }\n",
       "\n",
       "    .dataframe tbody tr th {\n",
       "        vertical-align: top;\n",
       "    }\n",
       "\n",
       "    .dataframe thead th {\n",
       "        text-align: right;\n",
       "    }\n",
       "</style>\n",
       "<table border=\"1\" class=\"dataframe\">\n",
       "  <thead>\n",
       "    <tr style=\"text-align: right;\">\n",
       "      <th></th>\n",
       "      <th>Job Title</th>\n",
       "      <th>Company</th>\n",
       "    </tr>\n",
       "  </thead>\n",
       "  <tbody>\n",
       "    <tr>\n",
       "      <th>0</th>\n",
       "      <td>Data Analyst</td>\n",
       "      <td>Target</td>\n",
       "    </tr>\n",
       "    <tr>\n",
       "      <th>1</th>\n",
       "      <td>Tech Data Analyst</td>\n",
       "      <td>Wipro</td>\n",
       "    </tr>\n",
       "    <tr>\n",
       "      <th>2</th>\n",
       "      <td>Data Analyst</td>\n",
       "      <td>Artech</td>\n",
       "    </tr>\n",
       "    <tr>\n",
       "      <th>3</th>\n",
       "      <td>Data Analyst</td>\n",
       "      <td>Brunel</td>\n",
       "    </tr>\n",
       "    <tr>\n",
       "      <th>4</th>\n",
       "      <td>Celonis &amp; Salesforce Data Analyst</td>\n",
       "      <td>Hitachi Energy</td>\n",
       "    </tr>\n",
       "    <tr>\n",
       "      <th>5</th>\n",
       "      <td>Celonis &amp; Salesforce Data Analyst</td>\n",
       "      <td>Hitachi Ltd.</td>\n",
       "    </tr>\n",
       "    <tr>\n",
       "      <th>6</th>\n",
       "      <td>Data Analyst</td>\n",
       "      <td>HARMAN</td>\n",
       "    </tr>\n",
       "    <tr>\n",
       "      <th>7</th>\n",
       "      <td>Data Analyst</td>\n",
       "      <td>Aon</td>\n",
       "    </tr>\n",
       "    <tr>\n",
       "      <th>8</th>\n",
       "      <td>Data Analyst</td>\n",
       "      <td>Aon</td>\n",
       "    </tr>\n",
       "    <tr>\n",
       "      <th>9</th>\n",
       "      <td>Data Analyst</td>\n",
       "      <td>Tata Consultancy Services (TCS)</td>\n",
       "    </tr>\n",
       "    <tr>\n",
       "      <th>10</th>\n",
       "      <td>Data Analyst (Bangalore)</td>\n",
       "      <td>Krazy Mantra</td>\n",
       "    </tr>\n",
       "    <tr>\n",
       "      <th>11</th>\n",
       "      <td>Insight Data Analyst</td>\n",
       "      <td>Vuca Consulting</td>\n",
       "    </tr>\n",
       "    <tr>\n",
       "      <th>12</th>\n",
       "      <td>Data Analyst</td>\n",
       "      <td>The Times Group</td>\n",
       "    </tr>\n",
       "    <tr>\n",
       "      <th>13</th>\n",
       "      <td>Data Analyst</td>\n",
       "      <td>Koch Industries</td>\n",
       "    </tr>\n",
       "    <tr>\n",
       "      <th>14</th>\n",
       "      <td>Data Analyst</td>\n",
       "      <td>Loyalytics Consulting</td>\n",
       "    </tr>\n",
       "    <tr>\n",
       "      <th>15</th>\n",
       "      <td>Data Analyst</td>\n",
       "      <td>Clairvoyant India Pvt. Ltd</td>\n",
       "    </tr>\n",
       "    <tr>\n",
       "      <th>16</th>\n",
       "      <td>Data Analyst</td>\n",
       "      <td>Lowes Services India Private limited</td>\n",
       "    </tr>\n",
       "    <tr>\n",
       "      <th>17</th>\n",
       "      <td>Data Analyst</td>\n",
       "      <td>Aventus Technology India</td>\n",
       "    </tr>\n",
       "    <tr>\n",
       "      <th>18</th>\n",
       "      <td>Data Analyst</td>\n",
       "      <td>Alliances Galore</td>\n",
       "    </tr>\n",
       "    <tr>\n",
       "      <th>19</th>\n",
       "      <td>Hiring For Data analyst- Bangalore</td>\n",
       "      <td>Shadowfax Technologies</td>\n",
       "    </tr>\n",
       "  </tbody>\n",
       "</table>\n",
       "</div>"
      ],
      "text/plain": [
       "                             Job Title                               Company\n",
       "0                         Data Analyst                                Target\n",
       "1                    Tech Data Analyst                                 Wipro\n",
       "2                         Data Analyst                                Artech\n",
       "3                         Data Analyst                                Brunel\n",
       "4    Celonis & Salesforce Data Analyst                        Hitachi Energy\n",
       "5    Celonis & Salesforce Data Analyst                          Hitachi Ltd.\n",
       "6                         Data Analyst                                HARMAN\n",
       "7                         Data Analyst                                   Aon\n",
       "8                         Data Analyst                                   Aon\n",
       "9                         Data Analyst       Tata Consultancy Services (TCS)\n",
       "10            Data Analyst (Bangalore)                          Krazy Mantra\n",
       "11                Insight Data Analyst                       Vuca Consulting\n",
       "12                        Data Analyst                       The Times Group\n",
       "13                        Data Analyst                       Koch Industries\n",
       "14                        Data Analyst                 Loyalytics Consulting\n",
       "15                        Data Analyst            Clairvoyant India Pvt. Ltd\n",
       "16                        Data Analyst  Lowes Services India Private limited\n",
       "17                        Data Analyst              Aventus Technology India\n",
       "18                        Data Analyst                      Alliances Galore\n",
       "19  Hiring For Data analyst- Bangalore                Shadowfax Technologies"
      ]
     },
     "execution_count": 40,
     "metadata": {},
     "output_type": "execute_result"
    }
   ],
   "source": [
    "jobs"
   ]
  },
  {
   "cell_type": "code",
   "execution_count": 55,
   "metadata": {},
   "outputs": [],
   "source": [
    "driver = webdriver.Chrome(r\"C:\\Users\\shash\\OneDrive\\Desktop\\chromedriver_win32\\chromedriver.exe\")"
   ]
  },
  {
   "cell_type": "code",
   "execution_count": 56,
   "metadata": {},
   "outputs": [],
   "source": [
    "url = 'https://www.naukri.com/'\n",
    "driver.get(url)"
   ]
  },
  {
   "cell_type": "code",
   "execution_count": 57,
   "metadata": {},
   "outputs": [],
   "source": [
    "search_jobs = driver.find_element(By.CLASS_NAME,\"suggestor-input\")\n",
    "search_jobs.send_keys(\"Data Scientist\")"
   ]
  },
  {
   "cell_type": "code",
   "execution_count": 59,
   "metadata": {},
   "outputs": [],
   "source": [
    "search_locn = driver.find_element(By.XPATH,'/html/body/div[1]/div[7]/div/div/div[5]/div/div/div/div[1]/div/input')\n",
    "search_locn.send_keys(\"Bangalore/Bengaluru\")"
   ]
  },
  {
   "cell_type": "code",
   "execution_count": 60,
   "metadata": {},
   "outputs": [],
   "source": [
    "search_btn = driver.find_element(By.CLASS_NAME, \"qsbSubmit\")\n",
    "search_btn.click()"
   ]
  },
  {
   "cell_type": "code",
   "execution_count": 62,
   "metadata": {},
   "outputs": [
    {
     "data": {
      "text/plain": [
       "[<selenium.webdriver.remote.webelement.WebElement (session=\"3e89050b1956a562135979a9c25b59d7\", element=\"043F17FBE1282B2B550975A0B7773666_element_402\")>,\n",
       " <selenium.webdriver.remote.webelement.WebElement (session=\"3e89050b1956a562135979a9c25b59d7\", element=\"043F17FBE1282B2B550975A0B7773666_element_451\")>,\n",
       " <selenium.webdriver.remote.webelement.WebElement (session=\"3e89050b1956a562135979a9c25b59d7\", element=\"043F17FBE1282B2B550975A0B7773666_element_452\")>,\n",
       " <selenium.webdriver.remote.webelement.WebElement (session=\"3e89050b1956a562135979a9c25b59d7\", element=\"043F17FBE1282B2B550975A0B7773666_element_453\")>,\n",
       " <selenium.webdriver.remote.webelement.WebElement (session=\"3e89050b1956a562135979a9c25b59d7\", element=\"043F17FBE1282B2B550975A0B7773666_element_454\")>,\n",
       " <selenium.webdriver.remote.webelement.WebElement (session=\"3e89050b1956a562135979a9c25b59d7\", element=\"043F17FBE1282B2B550975A0B7773666_element_455\")>,\n",
       " <selenium.webdriver.remote.webelement.WebElement (session=\"3e89050b1956a562135979a9c25b59d7\", element=\"043F17FBE1282B2B550975A0B7773666_element_456\")>,\n",
       " <selenium.webdriver.remote.webelement.WebElement (session=\"3e89050b1956a562135979a9c25b59d7\", element=\"043F17FBE1282B2B550975A0B7773666_element_457\")>,\n",
       " <selenium.webdriver.remote.webelement.WebElement (session=\"3e89050b1956a562135979a9c25b59d7\", element=\"043F17FBE1282B2B550975A0B7773666_element_458\")>,\n",
       " <selenium.webdriver.remote.webelement.WebElement (session=\"3e89050b1956a562135979a9c25b59d7\", element=\"043F17FBE1282B2B550975A0B7773666_element_459\")>,\n",
       " <selenium.webdriver.remote.webelement.WebElement (session=\"3e89050b1956a562135979a9c25b59d7\", element=\"043F17FBE1282B2B550975A0B7773666_element_460\")>,\n",
       " <selenium.webdriver.remote.webelement.WebElement (session=\"3e89050b1956a562135979a9c25b59d7\", element=\"043F17FBE1282B2B550975A0B7773666_element_461\")>,\n",
       " <selenium.webdriver.remote.webelement.WebElement (session=\"3e89050b1956a562135979a9c25b59d7\", element=\"043F17FBE1282B2B550975A0B7773666_element_462\")>,\n",
       " <selenium.webdriver.remote.webelement.WebElement (session=\"3e89050b1956a562135979a9c25b59d7\", element=\"043F17FBE1282B2B550975A0B7773666_element_463\")>,\n",
       " <selenium.webdriver.remote.webelement.WebElement (session=\"3e89050b1956a562135979a9c25b59d7\", element=\"043F17FBE1282B2B550975A0B7773666_element_464\")>,\n",
       " <selenium.webdriver.remote.webelement.WebElement (session=\"3e89050b1956a562135979a9c25b59d7\", element=\"043F17FBE1282B2B550975A0B7773666_element_465\")>,\n",
       " <selenium.webdriver.remote.webelement.WebElement (session=\"3e89050b1956a562135979a9c25b59d7\", element=\"043F17FBE1282B2B550975A0B7773666_element_466\")>,\n",
       " <selenium.webdriver.remote.webelement.WebElement (session=\"3e89050b1956a562135979a9c25b59d7\", element=\"043F17FBE1282B2B550975A0B7773666_element_467\")>,\n",
       " <selenium.webdriver.remote.webelement.WebElement (session=\"3e89050b1956a562135979a9c25b59d7\", element=\"043F17FBE1282B2B550975A0B7773666_element_468\")>,\n",
       " <selenium.webdriver.remote.webelement.WebElement (session=\"3e89050b1956a562135979a9c25b59d7\", element=\"043F17FBE1282B2B550975A0B7773666_element_469\")>]"
      ]
     },
     "execution_count": 62,
     "metadata": {},
     "output_type": "execute_result"
    }
   ],
   "source": [
    "title_tags=driver.find_elements(By.XPATH, '//a[@class=\"title ellipsis\"]')\n",
    "title_tags"
   ]
  },
  {
   "cell_type": "code",
   "execution_count": 63,
   "metadata": {},
   "outputs": [
    {
     "data": {
      "text/plain": [
       "['Permanent Opportunity - Data Scientist(Snaplogic&Snowflake), Pan India',\n",
       " 'Analystics & Modeling Specialist',\n",
       " 'Machine Learning (AI) Architect',\n",
       " 'Staff Data Scientist',\n",
       " 'Data Scientist',\n",
       " 'Hiring For Data Scientist',\n",
       " 'Data Scientist',\n",
       " 'Director/Senior Director - Data Science',\n",
       " 'Manager/Senior Manager - Data Science',\n",
       " 'Data Scientist']"
      ]
     },
     "execution_count": 63,
     "metadata": {},
     "output_type": "execute_result"
    }
   ],
   "source": [
    "job_titles=[]\n",
    "for i in title_tags:\n",
    "    if i.text is None:\n",
    "        job_titles.append('Not')\n",
    "    else:\n",
    "        job_titles.append(i.text)\n",
    "job_titles[0:10]"
   ]
  },
  {
   "cell_type": "code",
   "execution_count": 66,
   "metadata": {},
   "outputs": [
    {
     "data": {
      "text/plain": [
       "['Deloitte',\n",
       " 'Accenture',\n",
       " 'Persistent',\n",
       " 'Walmart',\n",
       " 'Tata Consultancy Services (TCS)',\n",
       " 'Tata Consultancy Services (TCS)',\n",
       " 'Infogain',\n",
       " 'Axtria India',\n",
       " 'Axtria India',\n",
       " 'Ericsson']"
      ]
     },
     "execution_count": 66,
     "metadata": {},
     "output_type": "execute_result"
    }
   ],
   "source": [
    "company_names =[]\n",
    "company_tags = driver.find_elements(By.XPATH,'//a[@class=\"subTitle ellipsis fleft\"]')\n",
    "for i in company_tags:\n",
    "    company_names.append(i.text)\n",
    "company_names[0:10]"
   ]
  },
  {
   "cell_type": "code",
   "execution_count": 68,
   "metadata": {},
   "outputs": [
    {
     "data": {
      "text/plain": [
       "20"
      ]
     },
     "execution_count": 68,
     "metadata": {},
     "output_type": "execute_result"
    }
   ],
   "source": [
    "len(company_names)"
   ]
  },
  {
   "cell_type": "code",
   "execution_count": 69,
   "metadata": {},
   "outputs": [],
   "source": [
    "jobs = pd.DataFrame()\n",
    "jobs['Job Title'] = job_titles\n",
    "jobs['Company'] = company_names"
   ]
  },
  {
   "cell_type": "code",
   "execution_count": 70,
   "metadata": {},
   "outputs": [
    {
     "data": {
      "text/html": [
       "<div>\n",
       "<style scoped>\n",
       "    .dataframe tbody tr th:only-of-type {\n",
       "        vertical-align: middle;\n",
       "    }\n",
       "\n",
       "    .dataframe tbody tr th {\n",
       "        vertical-align: top;\n",
       "    }\n",
       "\n",
       "    .dataframe thead th {\n",
       "        text-align: right;\n",
       "    }\n",
       "</style>\n",
       "<table border=\"1\" class=\"dataframe\">\n",
       "  <thead>\n",
       "    <tr style=\"text-align: right;\">\n",
       "      <th></th>\n",
       "      <th>Job Title</th>\n",
       "      <th>Company</th>\n",
       "    </tr>\n",
       "  </thead>\n",
       "  <tbody>\n",
       "    <tr>\n",
       "      <th>0</th>\n",
       "      <td>Permanent Opportunity - Data Scientist(Snaplog...</td>\n",
       "      <td>Deloitte</td>\n",
       "    </tr>\n",
       "    <tr>\n",
       "      <th>1</th>\n",
       "      <td>Analystics &amp; Modeling Specialist</td>\n",
       "      <td>Accenture</td>\n",
       "    </tr>\n",
       "    <tr>\n",
       "      <th>2</th>\n",
       "      <td>Machine Learning (AI) Architect</td>\n",
       "      <td>Persistent</td>\n",
       "    </tr>\n",
       "    <tr>\n",
       "      <th>3</th>\n",
       "      <td>Staff Data Scientist</td>\n",
       "      <td>Walmart</td>\n",
       "    </tr>\n",
       "    <tr>\n",
       "      <th>4</th>\n",
       "      <td>Data Scientist</td>\n",
       "      <td>Tata Consultancy Services (TCS)</td>\n",
       "    </tr>\n",
       "    <tr>\n",
       "      <th>5</th>\n",
       "      <td>Hiring For Data Scientist</td>\n",
       "      <td>Tata Consultancy Services (TCS)</td>\n",
       "    </tr>\n",
       "    <tr>\n",
       "      <th>6</th>\n",
       "      <td>Data Scientist</td>\n",
       "      <td>Infogain</td>\n",
       "    </tr>\n",
       "    <tr>\n",
       "      <th>7</th>\n",
       "      <td>Director/Senior Director - Data Science</td>\n",
       "      <td>Axtria India</td>\n",
       "    </tr>\n",
       "    <tr>\n",
       "      <th>8</th>\n",
       "      <td>Manager/Senior Manager - Data Science</td>\n",
       "      <td>Axtria India</td>\n",
       "    </tr>\n",
       "    <tr>\n",
       "      <th>9</th>\n",
       "      <td>Data Scientist</td>\n",
       "      <td>Ericsson</td>\n",
       "    </tr>\n",
       "    <tr>\n",
       "      <th>10</th>\n",
       "      <td>Data Scientist</td>\n",
       "      <td>Ericsson</td>\n",
       "    </tr>\n",
       "    <tr>\n",
       "      <th>11</th>\n",
       "      <td>Deputy Manager - B2C Underwriting</td>\n",
       "      <td>Bajaj Finserv Ltd.</td>\n",
       "    </tr>\n",
       "    <tr>\n",
       "      <th>12</th>\n",
       "      <td>Feasibility Data Scientist</td>\n",
       "      <td>ICON plc</td>\n",
       "    </tr>\n",
       "    <tr>\n",
       "      <th>13</th>\n",
       "      <td>Senior Data Scientist</td>\n",
       "      <td>Walmart</td>\n",
       "    </tr>\n",
       "    <tr>\n",
       "      <th>14</th>\n",
       "      <td>Data Scientist</td>\n",
       "      <td>Walmart</td>\n",
       "    </tr>\n",
       "    <tr>\n",
       "      <th>15</th>\n",
       "      <td>Data Scientist</td>\n",
       "      <td>Cognizant</td>\n",
       "    </tr>\n",
       "    <tr>\n",
       "      <th>16</th>\n",
       "      <td>Data Scientist - R/Python</td>\n",
       "      <td>Okda Solutions</td>\n",
       "    </tr>\n",
       "    <tr>\n",
       "      <th>17</th>\n",
       "      <td>Data Scientist - Engine Algorithm</td>\n",
       "      <td>Primo Hiring</td>\n",
       "    </tr>\n",
       "    <tr>\n",
       "      <th>18</th>\n",
       "      <td>Data Scientist - R/Python</td>\n",
       "      <td>Okda Solutions</td>\n",
       "    </tr>\n",
       "    <tr>\n",
       "      <th>19</th>\n",
       "      <td>Data Scientist</td>\n",
       "      <td>IBS Software Services</td>\n",
       "    </tr>\n",
       "  </tbody>\n",
       "</table>\n",
       "</div>"
      ],
      "text/plain": [
       "                                            Job Title  \\\n",
       "0   Permanent Opportunity - Data Scientist(Snaplog...   \n",
       "1                    Analystics & Modeling Specialist   \n",
       "2                     Machine Learning (AI) Architect   \n",
       "3                                Staff Data Scientist   \n",
       "4                                      Data Scientist   \n",
       "5                           Hiring For Data Scientist   \n",
       "6                                      Data Scientist   \n",
       "7             Director/Senior Director - Data Science   \n",
       "8               Manager/Senior Manager - Data Science   \n",
       "9                                      Data Scientist   \n",
       "10                                     Data Scientist   \n",
       "11                  Deputy Manager - B2C Underwriting   \n",
       "12                         Feasibility Data Scientist   \n",
       "13                              Senior Data Scientist   \n",
       "14                                     Data Scientist   \n",
       "15                                     Data Scientist   \n",
       "16                          Data Scientist - R/Python   \n",
       "17                  Data Scientist - Engine Algorithm   \n",
       "18                          Data Scientist - R/Python   \n",
       "19                                     Data Scientist   \n",
       "\n",
       "                            Company  \n",
       "0                          Deloitte  \n",
       "1                         Accenture  \n",
       "2                        Persistent  \n",
       "3                           Walmart  \n",
       "4   Tata Consultancy Services (TCS)  \n",
       "5   Tata Consultancy Services (TCS)  \n",
       "6                          Infogain  \n",
       "7                      Axtria India  \n",
       "8                      Axtria India  \n",
       "9                          Ericsson  \n",
       "10                         Ericsson  \n",
       "11               Bajaj Finserv Ltd.  \n",
       "12                         ICON plc  \n",
       "13                          Walmart  \n",
       "14                          Walmart  \n",
       "15                        Cognizant  \n",
       "16                   Okda Solutions  \n",
       "17                     Primo Hiring  \n",
       "18                   Okda Solutions  \n",
       "19            IBS Software Services  "
      ]
     },
     "execution_count": 70,
     "metadata": {},
     "output_type": "execute_result"
    }
   ],
   "source": [
    "jobs"
   ]
  },
  {
   "cell_type": "code",
   "execution_count": 83,
   "metadata": {},
   "outputs": [],
   "source": [
    "driver = webdriver.Chrome(r\"C:\\Users\\shash\\OneDrive\\Desktop\\chromedriver_win32\\chromedriver.exe\")"
   ]
  },
  {
   "cell_type": "code",
   "execution_count": 125,
   "metadata": {},
   "outputs": [],
   "source": [
    "url = 'https://www.naukri.com/'\n",
    "driver.get(url)"
   ]
  },
  {
   "cell_type": "code",
   "execution_count": 126,
   "metadata": {},
   "outputs": [],
   "source": [
    "search_jobs = driver.find_element(By.CLASS_NAME,\"suggestor-input\")\n",
    "search_jobs.send_keys(\"Data Scientist\")"
   ]
  },
  {
   "cell_type": "code",
   "execution_count": 127,
   "metadata": {},
   "outputs": [],
   "source": [
    "search_locn = driver.find_element(By.XPATH,'/html/body/div[1]/div[6]/div/div/div[5]/div/div/div/div[1]/div/input')\n",
    "search_locn.send_keys(\"Delhi/NCR\")"
   ]
  },
  {
   "cell_type": "code",
   "execution_count": 128,
   "metadata": {},
   "outputs": [],
   "source": [
    "search_btn = driver.find_element(By.CLASS_NAME, \"qsbSubmit\")\n",
    "search_btn.click()"
   ]
  },
  {
   "cell_type": "code",
   "execution_count": 131,
   "metadata": {},
   "outputs": [
    {
     "data": {
      "text/plain": [
       "[<selenium.webdriver.remote.webelement.WebElement (session=\"89010a89f9357bb859f0aad33d85865a\", element=\"0B46C48F872B8482A812C06B1ED5DECB_element_1163\")>,\n",
       " <selenium.webdriver.remote.webelement.WebElement (session=\"89010a89f9357bb859f0aad33d85865a\", element=\"0B46C48F872B8482A812C06B1ED5DECB_element_1164\")>,\n",
       " <selenium.webdriver.remote.webelement.WebElement (session=\"89010a89f9357bb859f0aad33d85865a\", element=\"0B46C48F872B8482A812C06B1ED5DECB_element_1165\")>,\n",
       " <selenium.webdriver.remote.webelement.WebElement (session=\"89010a89f9357bb859f0aad33d85865a\", element=\"0B46C48F872B8482A812C06B1ED5DECB_element_1166\")>,\n",
       " <selenium.webdriver.remote.webelement.WebElement (session=\"89010a89f9357bb859f0aad33d85865a\", element=\"0B46C48F872B8482A812C06B1ED5DECB_element_1167\")>,\n",
       " <selenium.webdriver.remote.webelement.WebElement (session=\"89010a89f9357bb859f0aad33d85865a\", element=\"0B46C48F872B8482A812C06B1ED5DECB_element_1168\")>,\n",
       " <selenium.webdriver.remote.webelement.WebElement (session=\"89010a89f9357bb859f0aad33d85865a\", element=\"0B46C48F872B8482A812C06B1ED5DECB_element_1169\")>,\n",
       " <selenium.webdriver.remote.webelement.WebElement (session=\"89010a89f9357bb859f0aad33d85865a\", element=\"0B46C48F872B8482A812C06B1ED5DECB_element_1170\")>,\n",
       " <selenium.webdriver.remote.webelement.WebElement (session=\"89010a89f9357bb859f0aad33d85865a\", element=\"0B46C48F872B8482A812C06B1ED5DECB_element_1171\")>,\n",
       " <selenium.webdriver.remote.webelement.WebElement (session=\"89010a89f9357bb859f0aad33d85865a\", element=\"0B46C48F872B8482A812C06B1ED5DECB_element_1172\")>,\n",
       " <selenium.webdriver.remote.webelement.WebElement (session=\"89010a89f9357bb859f0aad33d85865a\", element=\"0B46C48F872B8482A812C06B1ED5DECB_element_1173\")>,\n",
       " <selenium.webdriver.remote.webelement.WebElement (session=\"89010a89f9357bb859f0aad33d85865a\", element=\"0B46C48F872B8482A812C06B1ED5DECB_element_1174\")>,\n",
       " <selenium.webdriver.remote.webelement.WebElement (session=\"89010a89f9357bb859f0aad33d85865a\", element=\"0B46C48F872B8482A812C06B1ED5DECB_element_1175\")>,\n",
       " <selenium.webdriver.remote.webelement.WebElement (session=\"89010a89f9357bb859f0aad33d85865a\", element=\"0B46C48F872B8482A812C06B1ED5DECB_element_1176\")>,\n",
       " <selenium.webdriver.remote.webelement.WebElement (session=\"89010a89f9357bb859f0aad33d85865a\", element=\"0B46C48F872B8482A812C06B1ED5DECB_element_1177\")>,\n",
       " <selenium.webdriver.remote.webelement.WebElement (session=\"89010a89f9357bb859f0aad33d85865a\", element=\"0B46C48F872B8482A812C06B1ED5DECB_element_1178\")>,\n",
       " <selenium.webdriver.remote.webelement.WebElement (session=\"89010a89f9357bb859f0aad33d85865a\", element=\"0B46C48F872B8482A812C06B1ED5DECB_element_1179\")>,\n",
       " <selenium.webdriver.remote.webelement.WebElement (session=\"89010a89f9357bb859f0aad33d85865a\", element=\"0B46C48F872B8482A812C06B1ED5DECB_element_1180\")>,\n",
       " <selenium.webdriver.remote.webelement.WebElement (session=\"89010a89f9357bb859f0aad33d85865a\", element=\"0B46C48F872B8482A812C06B1ED5DECB_element_1181\")>,\n",
       " <selenium.webdriver.remote.webelement.WebElement (session=\"89010a89f9357bb859f0aad33d85865a\", element=\"0B46C48F872B8482A812C06B1ED5DECB_element_1182\")>]"
      ]
     },
     "execution_count": 131,
     "metadata": {},
     "output_type": "execute_result"
    }
   ],
   "source": [
    "title_tags=driver.find_elements(By.XPATH, '//a[@class=\"title ellipsis\"]')\n",
    "title_tags"
   ]
  },
  {
   "cell_type": "code",
   "execution_count": 132,
   "metadata": {},
   "outputs": [
    {
     "data": {
      "text/plain": [
       "['Permanent Opportunity - Data Scientist(Snaplogic&Snowflake), Pan India',\n",
       " 'Machine Learning (AI) Architect',\n",
       " 'Data Scientist',\n",
       " 'Director/Senior Director - Data Science',\n",
       " 'Manager/Senior Manager - Data Science',\n",
       " 'Data Scientist - R/Python',\n",
       " 'Data Scientist - Engine Algorithm',\n",
       " 'Data Scientist - R/Python',\n",
       " 'Data Scientist',\n",
       " 'Senior Customer Facing Data Scientist']"
      ]
     },
     "execution_count": 132,
     "metadata": {},
     "output_type": "execute_result"
    }
   ],
   "source": [
    "job_titles=[]\n",
    "for i in title_tags:\n",
    "    if i.text is None:\n",
    "        job_titles.append('Not')\n",
    "    else:\n",
    "        job_titles.append(i.text)\n",
    "job_titles[0:10]"
   ]
  },
  {
   "cell_type": "code",
   "execution_count": 133,
   "metadata": {},
   "outputs": [
    {
     "data": {
      "text/plain": [
       "['Deloitte',\n",
       " 'Persistent',\n",
       " 'Infogain',\n",
       " 'Axtria India',\n",
       " 'Axtria India',\n",
       " 'Okda Solutions',\n",
       " 'Primo Hiring',\n",
       " 'Okda Solutions',\n",
       " 'IBS Software Services',\n",
       " 'Sparkbeyond']"
      ]
     },
     "execution_count": 133,
     "metadata": {},
     "output_type": "execute_result"
    }
   ],
   "source": [
    "company_names =[]\n",
    "company_tags = driver.find_elements(By.XPATH,'//a[@class=\"subTitle ellipsis fleft\"]')\n",
    "for i in company_tags:\n",
    "    company_names.append(i.text)\n",
    "company_names[0:10]"
   ]
  },
  {
   "cell_type": "code",
   "execution_count": 137,
   "metadata": {},
   "outputs": [
    {
     "data": {
      "text/plain": [
       "[]"
      ]
     },
     "execution_count": 137,
     "metadata": {},
     "output_type": "execute_result"
    }
   ],
   "source": [
    "salary_list=[]\n",
    "salary_tags = driver.find_elements(By.XPATH,'//span[@class=\"ellipsis fleft \"]')\n",
    "for i in salary_list:\n",
    "    salary_list.append(i.text)\n",
    "salary_list[0:10]  "
   ]
  },
  {
   "cell_type": "code",
   "execution_count": 138,
   "metadata": {},
   "outputs": [],
   "source": [
    "jobs = pd.DataFrame()\n",
    "jobs['Job Title'] = job_titles\n",
    "jobs['Company'] = company_names\n",
    "jobs['Salary'] = salary_tags"
   ]
  },
  {
   "cell_type": "code",
   "execution_count": 139,
   "metadata": {},
   "outputs": [
    {
     "data": {
      "text/html": [
       "<div>\n",
       "<style scoped>\n",
       "    .dataframe tbody tr th:only-of-type {\n",
       "        vertical-align: middle;\n",
       "    }\n",
       "\n",
       "    .dataframe tbody tr th {\n",
       "        vertical-align: top;\n",
       "    }\n",
       "\n",
       "    .dataframe thead th {\n",
       "        text-align: right;\n",
       "    }\n",
       "</style>\n",
       "<table border=\"1\" class=\"dataframe\">\n",
       "  <thead>\n",
       "    <tr style=\"text-align: right;\">\n",
       "      <th></th>\n",
       "      <th>Job Title</th>\n",
       "      <th>Company</th>\n",
       "      <th>Salary</th>\n",
       "    </tr>\n",
       "  </thead>\n",
       "  <tbody>\n",
       "    <tr>\n",
       "      <th>0</th>\n",
       "      <td>Permanent Opportunity - Data Scientist(Snaplog...</td>\n",
       "      <td>Deloitte</td>\n",
       "      <td>&lt;selenium.webdriver.remote.webelement.WebEleme...</td>\n",
       "    </tr>\n",
       "    <tr>\n",
       "      <th>1</th>\n",
       "      <td>Machine Learning (AI) Architect</td>\n",
       "      <td>Persistent</td>\n",
       "      <td>&lt;selenium.webdriver.remote.webelement.WebEleme...</td>\n",
       "    </tr>\n",
       "    <tr>\n",
       "      <th>2</th>\n",
       "      <td>Data Scientist</td>\n",
       "      <td>Infogain</td>\n",
       "      <td>&lt;selenium.webdriver.remote.webelement.WebEleme...</td>\n",
       "    </tr>\n",
       "    <tr>\n",
       "      <th>3</th>\n",
       "      <td>Director/Senior Director - Data Science</td>\n",
       "      <td>Axtria India</td>\n",
       "      <td>&lt;selenium.webdriver.remote.webelement.WebEleme...</td>\n",
       "    </tr>\n",
       "    <tr>\n",
       "      <th>4</th>\n",
       "      <td>Manager/Senior Manager - Data Science</td>\n",
       "      <td>Axtria India</td>\n",
       "      <td>&lt;selenium.webdriver.remote.webelement.WebEleme...</td>\n",
       "    </tr>\n",
       "    <tr>\n",
       "      <th>5</th>\n",
       "      <td>Data Scientist - R/Python</td>\n",
       "      <td>Okda Solutions</td>\n",
       "      <td>&lt;selenium.webdriver.remote.webelement.WebEleme...</td>\n",
       "    </tr>\n",
       "    <tr>\n",
       "      <th>6</th>\n",
       "      <td>Data Scientist - Engine Algorithm</td>\n",
       "      <td>Primo Hiring</td>\n",
       "      <td>&lt;selenium.webdriver.remote.webelement.WebEleme...</td>\n",
       "    </tr>\n",
       "    <tr>\n",
       "      <th>7</th>\n",
       "      <td>Data Scientist - R/Python</td>\n",
       "      <td>Okda Solutions</td>\n",
       "      <td>&lt;selenium.webdriver.remote.webelement.WebEleme...</td>\n",
       "    </tr>\n",
       "    <tr>\n",
       "      <th>8</th>\n",
       "      <td>Data Scientist</td>\n",
       "      <td>IBS Software Services</td>\n",
       "      <td>&lt;selenium.webdriver.remote.webelement.WebEleme...</td>\n",
       "    </tr>\n",
       "    <tr>\n",
       "      <th>9</th>\n",
       "      <td>Senior Customer Facing Data Scientist</td>\n",
       "      <td>Sparkbeyond</td>\n",
       "      <td>&lt;selenium.webdriver.remote.webelement.WebEleme...</td>\n",
       "    </tr>\n",
       "    <tr>\n",
       "      <th>10</th>\n",
       "      <td>Junior Data Scientist</td>\n",
       "      <td>Analytos</td>\n",
       "      <td>&lt;selenium.webdriver.remote.webelement.WebEleme...</td>\n",
       "    </tr>\n",
       "    <tr>\n",
       "      <th>11</th>\n",
       "      <td>Senior Data Scientist</td>\n",
       "      <td>Impetus Technologies</td>\n",
       "      <td>&lt;selenium.webdriver.remote.webelement.WebEleme...</td>\n",
       "    </tr>\n",
       "    <tr>\n",
       "      <th>12</th>\n",
       "      <td>Data Science</td>\n",
       "      <td>Lericon Infomatics Pvt.ltd</td>\n",
       "      <td>&lt;selenium.webdriver.remote.webelement.WebEleme...</td>\n",
       "    </tr>\n",
       "    <tr>\n",
       "      <th>13</th>\n",
       "      <td>Data Scientist - R/Python</td>\n",
       "      <td>Okda Solutions</td>\n",
       "      <td>&lt;selenium.webdriver.remote.webelement.WebEleme...</td>\n",
       "    </tr>\n",
       "    <tr>\n",
       "      <th>14</th>\n",
       "      <td>Data Scientist</td>\n",
       "      <td>Blackbuck</td>\n",
       "      <td>&lt;selenium.webdriver.remote.webelement.WebEleme...</td>\n",
       "    </tr>\n",
       "    <tr>\n",
       "      <th>15</th>\n",
       "      <td>Data Science - Technical Lead</td>\n",
       "      <td>Paytm</td>\n",
       "      <td>&lt;selenium.webdriver.remote.webelement.WebEleme...</td>\n",
       "    </tr>\n",
       "    <tr>\n",
       "      <th>16</th>\n",
       "      <td>Data Science - Senior Software Engineer</td>\n",
       "      <td>Paytm</td>\n",
       "      <td>&lt;selenium.webdriver.remote.webelement.WebEleme...</td>\n",
       "    </tr>\n",
       "    <tr>\n",
       "      <th>17</th>\n",
       "      <td>Opportunity | Data Scientist | Tavant India</td>\n",
       "      <td>Tavant Technologies</td>\n",
       "      <td>&lt;selenium.webdriver.remote.webelement.WebEleme...</td>\n",
       "    </tr>\n",
       "    <tr>\n",
       "      <th>18</th>\n",
       "      <td>Sr. Data Scientist</td>\n",
       "      <td>Attri</td>\n",
       "      <td>&lt;selenium.webdriver.remote.webelement.WebEleme...</td>\n",
       "    </tr>\n",
       "    <tr>\n",
       "      <th>19</th>\n",
       "      <td>Research Scientist</td>\n",
       "      <td>Attri</td>\n",
       "      <td>&lt;selenium.webdriver.remote.webelement.WebEleme...</td>\n",
       "    </tr>\n",
       "  </tbody>\n",
       "</table>\n",
       "</div>"
      ],
      "text/plain": [
       "                                            Job Title  \\\n",
       "0   Permanent Opportunity - Data Scientist(Snaplog...   \n",
       "1                     Machine Learning (AI) Architect   \n",
       "2                                      Data Scientist   \n",
       "3             Director/Senior Director - Data Science   \n",
       "4               Manager/Senior Manager - Data Science   \n",
       "5                           Data Scientist - R/Python   \n",
       "6                   Data Scientist - Engine Algorithm   \n",
       "7                           Data Scientist - R/Python   \n",
       "8                                      Data Scientist   \n",
       "9               Senior Customer Facing Data Scientist   \n",
       "10                              Junior Data Scientist   \n",
       "11                              Senior Data Scientist   \n",
       "12                                       Data Science   \n",
       "13                          Data Scientist - R/Python   \n",
       "14                                     Data Scientist   \n",
       "15                      Data Science - Technical Lead   \n",
       "16            Data Science - Senior Software Engineer   \n",
       "17        Opportunity | Data Scientist | Tavant India   \n",
       "18                                 Sr. Data Scientist   \n",
       "19                                 Research Scientist   \n",
       "\n",
       "                       Company  \\\n",
       "0                     Deloitte   \n",
       "1                   Persistent   \n",
       "2                     Infogain   \n",
       "3                 Axtria India   \n",
       "4                 Axtria India   \n",
       "5               Okda Solutions   \n",
       "6                 Primo Hiring   \n",
       "7               Okda Solutions   \n",
       "8        IBS Software Services   \n",
       "9                  Sparkbeyond   \n",
       "10                    Analytos   \n",
       "11        Impetus Technologies   \n",
       "12  Lericon Infomatics Pvt.ltd   \n",
       "13              Okda Solutions   \n",
       "14                   Blackbuck   \n",
       "15                       Paytm   \n",
       "16                       Paytm   \n",
       "17         Tavant Technologies   \n",
       "18                       Attri   \n",
       "19                       Attri   \n",
       "\n",
       "                                               Salary  \n",
       "0   <selenium.webdriver.remote.webelement.WebEleme...  \n",
       "1   <selenium.webdriver.remote.webelement.WebEleme...  \n",
       "2   <selenium.webdriver.remote.webelement.WebEleme...  \n",
       "3   <selenium.webdriver.remote.webelement.WebEleme...  \n",
       "4   <selenium.webdriver.remote.webelement.WebEleme...  \n",
       "5   <selenium.webdriver.remote.webelement.WebEleme...  \n",
       "6   <selenium.webdriver.remote.webelement.WebEleme...  \n",
       "7   <selenium.webdriver.remote.webelement.WebEleme...  \n",
       "8   <selenium.webdriver.remote.webelement.WebEleme...  \n",
       "9   <selenium.webdriver.remote.webelement.WebEleme...  \n",
       "10  <selenium.webdriver.remote.webelement.WebEleme...  \n",
       "11  <selenium.webdriver.remote.webelement.WebEleme...  \n",
       "12  <selenium.webdriver.remote.webelement.WebEleme...  \n",
       "13  <selenium.webdriver.remote.webelement.WebEleme...  \n",
       "14  <selenium.webdriver.remote.webelement.WebEleme...  \n",
       "15  <selenium.webdriver.remote.webelement.WebEleme...  \n",
       "16  <selenium.webdriver.remote.webelement.WebEleme...  \n",
       "17  <selenium.webdriver.remote.webelement.WebEleme...  \n",
       "18  <selenium.webdriver.remote.webelement.WebEleme...  \n",
       "19  <selenium.webdriver.remote.webelement.WebEleme...  "
      ]
     },
     "execution_count": 139,
     "metadata": {},
     "output_type": "execute_result"
    }
   ],
   "source": [
    "jobs"
   ]
  },
  {
   "cell_type": "code",
   "execution_count": 141,
   "metadata": {},
   "outputs": [],
   "source": [
    "driver = webdriver.Chrome(r\"C:\\Users\\shash\\OneDrive\\Desktop\\chromedriver_win32\\chromedriver.exe\")"
   ]
  },
  {
   "cell_type": "code",
   "execution_count": 149,
   "metadata": {},
   "outputs": [],
   "source": [
    "url=\"https://www.flipkart.com/\"\n",
    "driver.get(url)"
   ]
  },
  {
   "cell_type": "code",
   "execution_count": 152,
   "metadata": {},
   "outputs": [
    {
     "data": {
      "text/plain": [
       "<selenium.webdriver.remote.webelement.WebElement (session=\"585e418fb6a97ce11d41a329661de82a\", element=\"00BB1B8599FBB9B888812612D9862866_element_311\")>"
      ]
     },
     "execution_count": 152,
     "metadata": {},
     "output_type": "execute_result"
    }
   ],
   "source": [
    "search_g= driver.find_element(By.XPATH,'/html/body/div/div/div[1]/div[1]/div[2]/div[2]/form/div/div/input')\n",
    "search_g"
   ]
  },
  {
   "cell_type": "code",
   "execution_count": 153,
   "metadata": {},
   "outputs": [],
   "source": [
    "search_g.send_keys('sunglasses')"
   ]
  },
  {
   "cell_type": "code",
   "execution_count": 155,
   "metadata": {},
   "outputs": [
    {
     "data": {
      "text/plain": [
       "<selenium.webdriver.remote.webelement.WebElement (session=\"585e418fb6a97ce11d41a329661de82a\", element=\"00BB1B8599FBB9B888812612D9862866_element_305\")>"
      ]
     },
     "execution_count": 155,
     "metadata": {},
     "output_type": "execute_result"
    }
   ],
   "source": [
    "search_btn=driver.find_element(By.XPATH,\"//button[@class='L0Z3Pu']\")\n",
    "search_btn"
   ]
  },
  {
   "cell_type": "code",
   "execution_count": 159,
   "metadata": {},
   "outputs": [],
   "source": [
    "search_btn=driver.find_element(By.CLASS_NAME,\"L0Z3Pu\")\n",
    "search_btn.click()"
   ]
  },
  {
   "cell_type": "code",
   "execution_count": 160,
   "metadata": {},
   "outputs": [],
   "source": [
    "B_name=[]\n",
    "Price=[]\n",
    "P_desc=[]\n",
    "Discount=[]"
   ]
  },
  {
   "cell_type": "code",
   "execution_count": 162,
   "metadata": {},
   "outputs": [],
   "source": [
    "for i in range(3):\n",
    "    b_name=driver.find_elements(By.XPATH,\"//div[@class='_2WkVRV']\")\n",
    "    p_desc=driver.find_elements(By.XPATH,\"//a[@class='IRpwTa']\")\n",
    "    price =driver.find_elements(By.XPATH,\"//div[@class='_25b18c']\")\n",
    "    discount=driver.find_elements(By.XPATH,\"//div[@class='_3Ay6Sb']\")\n",
    "    \n",
    "    for j  in b_name:\n",
    "        B_name.append(j.text)\n",
    "    B_name[:100]    \n",
    "    \n",
    "    \n",
    "    \n",
    "    for k in p_desc:\n",
    "        P_desc.append(k.text)\n",
    "    P_desc[:100] \n",
    "    \n",
    "    \n",
    "    for l in price:\n",
    "        Price.append(l.text)\n",
    "    Price[:100] \n",
    "    \n",
    "    \n",
    "    for t in discount:\n",
    "        Discount.append(t.text)\n",
    "    Discount[:100]"
   ]
  },
  {
   "cell_type": "code",
   "execution_count": 163,
   "metadata": {},
   "outputs": [
    {
     "data": {
      "text/plain": [
       "['ROYAL SON',\n",
       " 'AISLIN',\n",
       " 'Fastrack',\n",
       " 'BKGE',\n",
       " 'Elligator',\n",
       " 'Elligator',\n",
       " 'PIRASO',\n",
       " 'ROYAL SON',\n",
       " 'SRPM',\n",
       " 'PIRASO',\n",
       " 'Elligator',\n",
       " 'ROYAL SON',\n",
       " 'SRPM',\n",
       " 'Fastrack',\n",
       " 'Elligator',\n",
       " 'NuVew',\n",
       " 'Elligator',\n",
       " 'Fastrack',\n",
       " 'PIRASO',\n",
       " 'Libnan Photochromatic',\n",
       " 'Fastrack',\n",
       " 'PIRASO',\n",
       " 'kingsunglasses',\n",
       " 'style guru',\n",
       " 'Fastrack',\n",
       " 'Fastrack',\n",
       " 'Elligator',\n",
       " 'AISLIN',\n",
       " 'GANSTA',\n",
       " 'Fastrack',\n",
       " 'Fastrack',\n",
       " 'NuVew',\n",
       " 'like future',\n",
       " 'VINCENT CHASE',\n",
       " 'iCopertina',\n",
       " 'ROZZETTA CRAFT',\n",
       " 'Fastrack',\n",
       " 'Elligator',\n",
       " 'PIRASO',\n",
       " 'LOUIS KOUROS',\n",
       " 'ROYAL SON',\n",
       " 'AISLIN',\n",
       " 'Fastrack',\n",
       " 'BKGE',\n",
       " 'Elligator',\n",
       " 'Elligator',\n",
       " 'PIRASO',\n",
       " 'ROYAL SON',\n",
       " 'SRPM',\n",
       " 'PIRASO',\n",
       " 'Elligator',\n",
       " 'ROYAL SON',\n",
       " 'SRPM',\n",
       " 'Fastrack',\n",
       " 'Elligator',\n",
       " 'NuVew',\n",
       " 'Elligator',\n",
       " 'Fastrack',\n",
       " 'PIRASO',\n",
       " 'Libnan Photochromatic',\n",
       " 'Fastrack',\n",
       " 'PIRASO',\n",
       " 'kingsunglasses',\n",
       " 'style guru',\n",
       " 'Fastrack',\n",
       " 'Fastrack',\n",
       " 'Elligator',\n",
       " 'AISLIN',\n",
       " 'GANSTA',\n",
       " 'Fastrack',\n",
       " 'Fastrack',\n",
       " 'NuVew',\n",
       " 'like future',\n",
       " 'VINCENT CHASE',\n",
       " 'iCopertina',\n",
       " 'ROZZETTA CRAFT',\n",
       " 'Fastrack',\n",
       " 'Elligator',\n",
       " 'PIRASO',\n",
       " 'LOUIS KOUROS',\n",
       " 'ROYAL SON',\n",
       " 'AISLIN',\n",
       " 'Fastrack',\n",
       " 'BKGE',\n",
       " 'Elligator',\n",
       " 'Elligator',\n",
       " 'PIRASO',\n",
       " 'ROYAL SON',\n",
       " 'SRPM',\n",
       " 'PIRASO',\n",
       " 'Elligator',\n",
       " 'ROYAL SON',\n",
       " 'SRPM',\n",
       " 'Fastrack',\n",
       " 'Elligator',\n",
       " 'NuVew',\n",
       " 'Elligator',\n",
       " 'Fastrack',\n",
       " 'PIRASO',\n",
       " 'Libnan Photochromatic']"
      ]
     },
     "execution_count": 163,
     "metadata": {},
     "output_type": "execute_result"
    }
   ],
   "source": [
    "B_name[:100]"
   ]
  },
  {
   "cell_type": "code",
   "execution_count": 164,
   "metadata": {},
   "outputs": [
    {
     "name": "stdout",
     "output_type": "stream",
     "text": [
      "100\n",
      "100\n",
      "100\n",
      "100\n"
     ]
    },
    {
     "data": {
      "text/plain": [
       "(None, None, None, None)"
      ]
     },
     "execution_count": 164,
     "metadata": {},
     "output_type": "execute_result"
    }
   ],
   "source": [
    "print(len(B_name[:100])),print(len(Price[:100])),print(len(P_desc[:100])),print(len(Discount[:100]))"
   ]
  },
  {
   "cell_type": "code",
   "execution_count": 165,
   "metadata": {},
   "outputs": [],
   "source": [
    "sun_gl=pd.DataFrame({})\n",
    "sun_gl['Brand_name']=B_name[:100]\n",
    "sun_gl['P_price']=Price[:100]\n",
    "sun_gl['Pr_desc']=P_desc[:100]\n",
    "sun_gl['P_discount']=Discount[:100]\n"
   ]
  },
  {
   "cell_type": "code",
   "execution_count": 166,
   "metadata": {},
   "outputs": [
    {
     "data": {
      "text/html": [
       "<div>\n",
       "<style scoped>\n",
       "    .dataframe tbody tr th:only-of-type {\n",
       "        vertical-align: middle;\n",
       "    }\n",
       "\n",
       "    .dataframe tbody tr th {\n",
       "        vertical-align: top;\n",
       "    }\n",
       "\n",
       "    .dataframe thead th {\n",
       "        text-align: right;\n",
       "    }\n",
       "</style>\n",
       "<table border=\"1\" class=\"dataframe\">\n",
       "  <thead>\n",
       "    <tr style=\"text-align: right;\">\n",
       "      <th></th>\n",
       "      <th>Brand_name</th>\n",
       "      <th>P_price</th>\n",
       "      <th>Pr_desc</th>\n",
       "      <th>P_discount</th>\n",
       "    </tr>\n",
       "  </thead>\n",
       "  <tbody>\n",
       "    <tr>\n",
       "      <th>0</th>\n",
       "      <td>ROYAL SON</td>\n",
       "      <td>₹471₹1,49968% off</td>\n",
       "      <td>UV Protection Rectangular, Retro Square Sungla...</td>\n",
       "      <td>68% off</td>\n",
       "    </tr>\n",
       "    <tr>\n",
       "      <th>1</th>\n",
       "      <td>AISLIN</td>\n",
       "      <td>₹423₹1,52572% off</td>\n",
       "      <td>UV Protection, Gradient Oval Sunglasses (60)</td>\n",
       "      <td>72% off</td>\n",
       "    </tr>\n",
       "    <tr>\n",
       "      <th>2</th>\n",
       "      <td>Fastrack</td>\n",
       "      <td>₹499₹89944% off</td>\n",
       "      <td>UV Protection Rectangular Sunglasses (Free Size)</td>\n",
       "      <td>44% off</td>\n",
       "    </tr>\n",
       "    <tr>\n",
       "      <th>3</th>\n",
       "      <td>BKGE</td>\n",
       "      <td>₹149₹99985% off</td>\n",
       "      <td>Polarized, UV Protection Retro Square Sunglass...</td>\n",
       "      <td>85% off</td>\n",
       "    </tr>\n",
       "    <tr>\n",
       "      <th>4</th>\n",
       "      <td>Elligator</td>\n",
       "      <td>₹109₹1,29991% off</td>\n",
       "      <td>UV Protection, Mirrored Wayfarer Sunglasses (54)</td>\n",
       "      <td>91% off</td>\n",
       "    </tr>\n",
       "    <tr>\n",
       "      <th>...</th>\n",
       "      <td>...</td>\n",
       "      <td>...</td>\n",
       "      <td>...</td>\n",
       "      <td>...</td>\n",
       "    </tr>\n",
       "    <tr>\n",
       "      <th>95</th>\n",
       "      <td>NuVew</td>\n",
       "      <td>₹179₹99982% off</td>\n",
       "      <td>UV Protection Shield Sunglasses (Free Size)</td>\n",
       "      <td>77% off</td>\n",
       "    </tr>\n",
       "    <tr>\n",
       "      <th>96</th>\n",
       "      <td>Elligator</td>\n",
       "      <td>₹239₹1,59985% off</td>\n",
       "      <td>UV Protection Wayfarer Sunglasses (56)</td>\n",
       "      <td>64% off</td>\n",
       "    </tr>\n",
       "    <tr>\n",
       "      <th>97</th>\n",
       "      <td>Fastrack</td>\n",
       "      <td>₹699₹1,99965% off</td>\n",
       "      <td>UV Protection Rectangular Sunglasses (Free Size)</td>\n",
       "      <td>43% off</td>\n",
       "    </tr>\n",
       "    <tr>\n",
       "      <th>98</th>\n",
       "      <td>PIRASO</td>\n",
       "      <td>₹179₹1,29986% off</td>\n",
       "      <td>Mirrored, Night Vision, UV Protection Wayfarer...</td>\n",
       "      <td>87% off</td>\n",
       "    </tr>\n",
       "    <tr>\n",
       "      <th>99</th>\n",
       "      <td>Libnan Photochromatic</td>\n",
       "      <td>₹268₹1,59983% off</td>\n",
       "      <td>UV Protection Wayfarer Sunglasses (Free Size)</td>\n",
       "      <td>59% off</td>\n",
       "    </tr>\n",
       "  </tbody>\n",
       "</table>\n",
       "<p>100 rows × 4 columns</p>\n",
       "</div>"
      ],
      "text/plain": [
       "               Brand_name            P_price  \\\n",
       "0               ROYAL SON  ₹471₹1,49968% off   \n",
       "1                  AISLIN  ₹423₹1,52572% off   \n",
       "2                Fastrack    ₹499₹89944% off   \n",
       "3                    BKGE    ₹149₹99985% off   \n",
       "4               Elligator  ₹109₹1,29991% off   \n",
       "..                    ...                ...   \n",
       "95                  NuVew    ₹179₹99982% off   \n",
       "96              Elligator  ₹239₹1,59985% off   \n",
       "97               Fastrack  ₹699₹1,99965% off   \n",
       "98                 PIRASO  ₹179₹1,29986% off   \n",
       "99  Libnan Photochromatic  ₹268₹1,59983% off   \n",
       "\n",
       "                                              Pr_desc P_discount  \n",
       "0   UV Protection Rectangular, Retro Square Sungla...    68% off  \n",
       "1        UV Protection, Gradient Oval Sunglasses (60)    72% off  \n",
       "2    UV Protection Rectangular Sunglasses (Free Size)    44% off  \n",
       "3   Polarized, UV Protection Retro Square Sunglass...    85% off  \n",
       "4    UV Protection, Mirrored Wayfarer Sunglasses (54)    91% off  \n",
       "..                                                ...        ...  \n",
       "95        UV Protection Shield Sunglasses (Free Size)    77% off  \n",
       "96             UV Protection Wayfarer Sunglasses (56)    64% off  \n",
       "97   UV Protection Rectangular Sunglasses (Free Size)    43% off  \n",
       "98  Mirrored, Night Vision, UV Protection Wayfarer...    87% off  \n",
       "99      UV Protection Wayfarer Sunglasses (Free Size)    59% off  \n",
       "\n",
       "[100 rows x 4 columns]"
      ]
     },
     "execution_count": 166,
     "metadata": {},
     "output_type": "execute_result"
    }
   ],
   "source": [
    "sun_gl"
   ]
  },
  {
   "cell_type": "code",
   "execution_count": 167,
   "metadata": {},
   "outputs": [],
   "source": [
    "url=\"https://www.flipkart.com/\"\n",
    "driver.get(url)"
   ]
  },
  {
   "cell_type": "code",
   "execution_count": 168,
   "metadata": {},
   "outputs": [
    {
     "data": {
      "text/plain": [
       "<selenium.webdriver.remote.webelement.WebElement (session=\"585e418fb6a97ce11d41a329661de82a\", element=\"5FD1E3E25E78A97EEA279370EB0181C1_element_655\")>"
      ]
     },
     "execution_count": 168,
     "metadata": {},
     "output_type": "execute_result"
    }
   ],
   "source": [
    "search_g= driver.find_element(By.XPATH,'/html/body/div/div/div[1]/div[1]/div[2]/div[2]/form/div/div/input')\n",
    "search_g"
   ]
  },
  {
   "cell_type": "code",
   "execution_count": 169,
   "metadata": {},
   "outputs": [],
   "source": [
    "search_g.send_keys('iphone 11')"
   ]
  },
  {
   "cell_type": "code",
   "execution_count": 170,
   "metadata": {},
   "outputs": [
    {
     "data": {
      "text/plain": [
       "<selenium.webdriver.remote.webelement.WebElement (session=\"585e418fb6a97ce11d41a329661de82a\", element=\"5FD1E3E25E78A97EEA279370EB0181C1_element_649\")>"
      ]
     },
     "execution_count": 170,
     "metadata": {},
     "output_type": "execute_result"
    }
   ],
   "source": [
    "search_btn=driver.find_element(By.XPATH,\"//button[@class='L0Z3Pu']\")\n",
    "search_btn"
   ]
  },
  {
   "cell_type": "code",
   "execution_count": 171,
   "metadata": {},
   "outputs": [],
   "source": [
    "search_btn=driver.find_element(By.CLASS_NAME,\"L0Z3Pu\")\n",
    "search_btn.click()"
   ]
  },
  {
   "cell_type": "code",
   "execution_count": 178,
   "metadata": {},
   "outputs": [],
   "source": [
    "select_btn=driver.find_element(By.XPATH,'//*[@id=\"container\"]/div/div[3]/div[1]/div[2]/div[2]/div/div/div/a/div[2]/div[1]/div[1]')\n",
    "select_btn.click()"
   ]
  },
  {
   "cell_type": "code",
   "execution_count": null,
   "metadata": {},
   "outputs": [],
   "source": [
    "rating=[]\n",
    "review_summary=[] "
   ]
  },
  {
   "cell_type": "code",
   "execution_count": 213,
   "metadata": {},
   "outputs": [
    {
     "data": {
      "text/plain": [
       "[]"
      ]
     },
     "execution_count": 213,
     "metadata": {},
     "output_type": "execute_result"
    }
   ],
   "source": [
    "review_summary=driver.find_elements(By.XPATH,'/html/body/div[1]/div/div[3]/div[1]/div[2]/div[9]/div[7]/div/div[4]')\n",
    "\n",
    "for k in review_summary:\n",
    "        review_summary.append(k.text)\n",
    "review_summary"
   ]
  },
  {
   "cell_type": "code",
   "execution_count": 214,
   "metadata": {},
   "outputs": [],
   "source": [
    "url=\"https://www.flipkart.com/\"\n",
    "driver.get(url)"
   ]
  },
  {
   "cell_type": "code",
   "execution_count": 215,
   "metadata": {},
   "outputs": [
    {
     "data": {
      "text/plain": [
       "<selenium.webdriver.remote.webelement.WebElement (session=\"585e418fb6a97ce11d41a329661de82a\", element=\"7240E371A4D3E7BAD092D888CBE37640_element_778\")>"
      ]
     },
     "execution_count": 215,
     "metadata": {},
     "output_type": "execute_result"
    }
   ],
   "source": [
    "search_g= driver.find_element(By.XPATH,'/html/body/div/div/div[1]/div[1]/div[2]/div[2]/form/div/div/input')\n",
    "search_g"
   ]
  },
  {
   "cell_type": "code",
   "execution_count": 216,
   "metadata": {},
   "outputs": [],
   "source": [
    "search_g.send_keys('sneakers')"
   ]
  },
  {
   "cell_type": "code",
   "execution_count": 217,
   "metadata": {},
   "outputs": [
    {
     "data": {
      "text/plain": [
       "<selenium.webdriver.remote.webelement.WebElement (session=\"585e418fb6a97ce11d41a329661de82a\", element=\"7240E371A4D3E7BAD092D888CBE37640_element_779\")>"
      ]
     },
     "execution_count": 217,
     "metadata": {},
     "output_type": "execute_result"
    }
   ],
   "source": [
    "search_btn=driver.find_element(By.XPATH,\"//button[@class='L0Z3Pu']\")\n",
    "search_btn"
   ]
  },
  {
   "cell_type": "code",
   "execution_count": 218,
   "metadata": {},
   "outputs": [],
   "source": [
    "search_btn=driver.find_element(By.CLASS_NAME,\"L0Z3Pu\")\n",
    "search_btn.click()"
   ]
  },
  {
   "cell_type": "code",
   "execution_count": 219,
   "metadata": {},
   "outputs": [],
   "source": [
    "B_name=[]\n",
    "Price=[]\n",
    "P_desc=[]\n",
    "Discount=[]"
   ]
  },
  {
   "cell_type": "code",
   "execution_count": 221,
   "metadata": {},
   "outputs": [],
   "source": [
    "for i in range(3):\n",
    "    b_name=driver.find_elements(By.XPATH,\"//div[@class='_2WkVRV']\")\n",
    "    p_desc=driver.find_elements(By.XPATH,\"//a[@class='IRpwTa']\")\n",
    "    price =driver.find_elements(By.XPATH,\"//div[@class='_25b18c']\")\n",
    "    discount=driver.find_elements(By.XPATH,\"//div[@class='_3Ay6Sb']\")\n",
    "    \n",
    "    for j  in b_name:\n",
    "        B_name.append(j.text)\n",
    "    B_name[:100]    \n",
    "    \n",
    "    \n",
    "    \n",
    "    for k in p_desc:\n",
    "        P_desc.append(k.text)\n",
    "    P_desc[:100] \n",
    "    \n",
    "    \n",
    "    for l in price:\n",
    "        Price.append(l.text)\n",
    "    Price[:100] \n",
    "    \n",
    "    \n",
    "    for t in discount:\n",
    "        Discount.append(t.text)\n",
    "    Discount[:100]"
   ]
  },
  {
   "cell_type": "code",
   "execution_count": 223,
   "metadata": {},
   "outputs": [
    {
     "name": "stdout",
     "output_type": "stream",
     "text": [
      "100\n",
      "100\n",
      "100\n",
      "100\n"
     ]
    },
    {
     "data": {
      "text/plain": [
       "(None, None, None, None)"
      ]
     },
     "execution_count": 223,
     "metadata": {},
     "output_type": "execute_result"
    }
   ],
   "source": [
    "print(len(B_name[:100])),print(len(Price[:100])),print(len(P_desc[:100])),print(len(Discount[:100]))"
   ]
  },
  {
   "cell_type": "code",
   "execution_count": 224,
   "metadata": {},
   "outputs": [],
   "source": [
    "snea_kers=pd.DataFrame({})\n",
    "snea_kers['Brand_name']=B_name[:100]\n",
    "snea_kers['P_price']=Price[:100]\n",
    "snea_kers['Pr_desc']=P_desc[:100]\n",
    "snea_kers['P_discount']=Discount[:100]"
   ]
  },
  {
   "cell_type": "code",
   "execution_count": 225,
   "metadata": {},
   "outputs": [
    {
     "data": {
      "text/html": [
       "<div>\n",
       "<style scoped>\n",
       "    .dataframe tbody tr th:only-of-type {\n",
       "        vertical-align: middle;\n",
       "    }\n",
       "\n",
       "    .dataframe tbody tr th {\n",
       "        vertical-align: top;\n",
       "    }\n",
       "\n",
       "    .dataframe thead th {\n",
       "        text-align: right;\n",
       "    }\n",
       "</style>\n",
       "<table border=\"1\" class=\"dataframe\">\n",
       "  <thead>\n",
       "    <tr style=\"text-align: right;\">\n",
       "      <th></th>\n",
       "      <th>Brand_name</th>\n",
       "      <th>P_price</th>\n",
       "      <th>Pr_desc</th>\n",
       "      <th>P_discount</th>\n",
       "    </tr>\n",
       "  </thead>\n",
       "  <tbody>\n",
       "    <tr>\n",
       "      <th>0</th>\n",
       "      <td>BIRDE</td>\n",
       "      <td>₹499₹99950% off</td>\n",
       "      <td>Combo Pack Of 2 Casual Shoes Sneakers For Men</td>\n",
       "      <td>50% off</td>\n",
       "    </tr>\n",
       "    <tr>\n",
       "      <th>1</th>\n",
       "      <td>BRUTON</td>\n",
       "      <td>₹399₹2,49984% off</td>\n",
       "      <td>2 Combo Sneaker Shoes Sneakers For Men</td>\n",
       "      <td>84% off</td>\n",
       "    </tr>\n",
       "    <tr>\n",
       "      <th>2</th>\n",
       "      <td>Labbin</td>\n",
       "      <td>₹349₹87460% off</td>\n",
       "      <td>Sneakers For Men</td>\n",
       "      <td>60% off</td>\n",
       "    </tr>\n",
       "    <tr>\n",
       "      <th>3</th>\n",
       "      <td>PUMA</td>\n",
       "      <td>₹1,374₹4,49969% off</td>\n",
       "      <td>Buzz Sneakers For Men</td>\n",
       "      <td>69% off</td>\n",
       "    </tr>\n",
       "    <tr>\n",
       "      <th>4</th>\n",
       "      <td>PUMA</td>\n",
       "      <td>₹1,379₹3,99965% off</td>\n",
       "      <td>Hustle V2 Sneakers For Men</td>\n",
       "      <td>65% off</td>\n",
       "    </tr>\n",
       "    <tr>\n",
       "      <th>...</th>\n",
       "      <td>...</td>\n",
       "      <td>...</td>\n",
       "      <td>...</td>\n",
       "      <td>...</td>\n",
       "    </tr>\n",
       "    <tr>\n",
       "      <th>95</th>\n",
       "      <td>aadi</td>\n",
       "      <td>₹479₹1,99876% off</td>\n",
       "      <td>Combo_Pack_Of 2 Casual Shoes Sneakers For Men</td>\n",
       "      <td>85% off</td>\n",
       "    </tr>\n",
       "    <tr>\n",
       "      <th>96</th>\n",
       "      <td>BRUTON</td>\n",
       "      <td>₹249₹1,99987% off</td>\n",
       "      <td>RS-Z Reinvention Sneakers For Men</td>\n",
       "      <td>85% off</td>\n",
       "    </tr>\n",
       "    <tr>\n",
       "      <th>97</th>\n",
       "      <td>BRUTON</td>\n",
       "      <td>₹399₹2,49984% off</td>\n",
       "      <td>HRXLB-2C Sneakers For Men</td>\n",
       "      <td>84% off</td>\n",
       "    </tr>\n",
       "    <tr>\n",
       "      <th>98</th>\n",
       "      <td>PUMA</td>\n",
       "      <td>₹229₹1,29982% off</td>\n",
       "      <td>Sneakers For Men</td>\n",
       "      <td>55% off</td>\n",
       "    </tr>\n",
       "    <tr>\n",
       "      <th>99</th>\n",
       "      <td>HRX by Hrithik Roshan</td>\n",
       "      <td>₹499₹99950% off</td>\n",
       "      <td>Sneakers For Men</td>\n",
       "      <td>71% off</td>\n",
       "    </tr>\n",
       "  </tbody>\n",
       "</table>\n",
       "<p>100 rows × 4 columns</p>\n",
       "</div>"
      ],
      "text/plain": [
       "               Brand_name              P_price  \\\n",
       "0                   BIRDE      ₹499₹99950% off   \n",
       "1                  BRUTON    ₹399₹2,49984% off   \n",
       "2                  Labbin      ₹349₹87460% off   \n",
       "3                    PUMA  ₹1,374₹4,49969% off   \n",
       "4                    PUMA  ₹1,379₹3,99965% off   \n",
       "..                    ...                  ...   \n",
       "95                   aadi    ₹479₹1,99876% off   \n",
       "96                 BRUTON    ₹249₹1,99987% off   \n",
       "97                 BRUTON    ₹399₹2,49984% off   \n",
       "98                   PUMA    ₹229₹1,29982% off   \n",
       "99  HRX by Hrithik Roshan      ₹499₹99950% off   \n",
       "\n",
       "                                          Pr_desc P_discount  \n",
       "0   Combo Pack Of 2 Casual Shoes Sneakers For Men    50% off  \n",
       "1          2 Combo Sneaker Shoes Sneakers For Men    84% off  \n",
       "2                                Sneakers For Men    60% off  \n",
       "3                           Buzz Sneakers For Men    69% off  \n",
       "4                      Hustle V2 Sneakers For Men    65% off  \n",
       "..                                            ...        ...  \n",
       "95  Combo_Pack_Of 2 Casual Shoes Sneakers For Men    85% off  \n",
       "96              RS-Z Reinvention Sneakers For Men    85% off  \n",
       "97                      HRXLB-2C Sneakers For Men    84% off  \n",
       "98                               Sneakers For Men    55% off  \n",
       "99                               Sneakers For Men    71% off  \n",
       "\n",
       "[100 rows x 4 columns]"
      ]
     },
     "execution_count": 225,
     "metadata": {},
     "output_type": "execute_result"
    }
   ],
   "source": [
    "snea_kers"
   ]
  },
  {
   "cell_type": "code",
   "execution_count": 246,
   "metadata": {},
   "outputs": [],
   "source": [
    "url=\" https://www.amazon.in \"\n",
    "driver.get(url)"
   ]
  },
  {
   "cell_type": "code",
   "execution_count": 247,
   "metadata": {},
   "outputs": [
    {
     "data": {
      "text/plain": [
       "<selenium.webdriver.remote.webelement.WebElement (session=\"585e418fb6a97ce11d41a329661de82a\", element=\"027ED69B40E45E93E4AB0E214B1AEC52_element_1333\")>"
      ]
     },
     "execution_count": 247,
     "metadata": {},
     "output_type": "execute_result"
    }
   ],
   "source": [
    "search_g= driver.find_element(By.XPATH,'//*[@id=\"twotabsearchtextbox\"]')\n",
    "search_g"
   ]
  },
  {
   "cell_type": "code",
   "execution_count": 248,
   "metadata": {},
   "outputs": [],
   "source": [
    "search_g.send_keys('Laptop')"
   ]
  },
  {
   "cell_type": "code",
   "execution_count": 250,
   "metadata": {},
   "outputs": [
    {
     "data": {
      "text/plain": [
       "<selenium.webdriver.remote.webelement.WebElement (session=\"585e418fb6a97ce11d41a329661de82a\", element=\"027ED69B40E45E93E4AB0E214B1AEC52_element_1327\")>"
      ]
     },
     "execution_count": 250,
     "metadata": {},
     "output_type": "execute_result"
    }
   ],
   "source": [
    "search_btn=driver.find_element(By.XPATH,'/html/body/div[1]/header/div/div[1]/div[2]/div/form/div[3]/div/span/input')\n",
    "search_btn"
   ]
  },
  {
   "cell_type": "code",
   "execution_count": 254,
   "metadata": {},
   "outputs": [],
   "source": [
    "search_btn=driver.find_element(By.XPATH,\"//input[@id='nav-search-submit-button']\")\n",
    "search_btn.click()"
   ]
  },
  {
   "cell_type": "code",
   "execution_count": 255,
   "metadata": {},
   "outputs": [],
   "source": [
    "Title=[]\n",
    "Price=[]\n",
    "Rating=[]"
   ]
  },
  {
   "cell_type": "code",
   "execution_count": 273,
   "metadata": {},
   "outputs": [],
   "source": [
    "for i in range(3):\n",
    "    b_name=driver.find_elements(By.XPATH,\"//div[@class='_2WkVRV']\")\n",
    "    p_desc=driver.find_elements(By.XPATH,\"//a[@class='IRpwTa']\")\n",
    "    price =driver.find_elements(By.XPATH,\"//div[@class='_25b18c']\")\n",
    "    \n",
    "    \n",
    "    for j  in b_name:\n",
    "        Title.append(j.text)\n",
    "    Title[:100]    \n",
    "    \n",
    "    \n",
    "    \n",
    "    for k in p_desc:\n",
    "        P_desc.append(k.text)\n",
    "    P_desc[0:100] \n",
    "    \n",
    "    \n",
    "    for l in price:\n",
    "        price.append(l.text)\n",
    "    price[0:100]"
   ]
  },
  {
   "cell_type": "code",
   "execution_count": 266,
   "metadata": {},
   "outputs": [
    {
     "name": "stdout",
     "output_type": "stream",
     "text": [
      "100\n",
      "0\n",
      "100\n"
     ]
    },
    {
     "data": {
      "text/plain": [
       "(None, None, None)"
      ]
     },
     "execution_count": 266,
     "metadata": {},
     "output_type": "execute_result"
    }
   ],
   "source": [
    "print(len(B_name[:100])),print(len(Price[:100])),print(len(P_desc[:100]))"
   ]
  },
  {
   "cell_type": "code",
   "execution_count": 267,
   "metadata": {},
   "outputs": [],
   "source": [
    "laptop=pd.DataFrame({})\n",
    "laptop['Title']=B_name[:100]\n",
    "laptop['Pr_desc']=P_desc[:100]"
   ]
  },
  {
   "cell_type": "code",
   "execution_count": null,
   "metadata": {},
   "outputs": [],
   "source": []
  }
 ],
 "metadata": {
  "kernelspec": {
   "display_name": "Python 3",
   "language": "python",
   "name": "python3"
  },
  "language_info": {
   "codemirror_mode": {
    "name": "ipython",
    "version": 3
   },
   "file_extension": ".py",
   "mimetype": "text/x-python",
   "name": "python",
   "nbconvert_exporter": "python",
   "pygments_lexer": "ipython3",
   "version": "3.8.5"
  }
 },
 "nbformat": 4,
 "nbformat_minor": 4
}
