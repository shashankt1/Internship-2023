{
 "cells": [
  {
   "cell_type": "code",
   "execution_count": 1,
   "metadata": {},
   "outputs": [
    {
     "name": "stdout",
     "output_type": "stream",
     "text": [
      "Requirement already satisfied: selenium in c:\\users\\shash\\anaconda3\\lib\\site-packages (4.6.0)\n",
      "Requirement already satisfied: trio~=0.17 in c:\\users\\shash\\anaconda3\\lib\\site-packages (from selenium) (0.22.0)\n",
      "Requirement already satisfied: urllib3[socks]~=1.26 in c:\\users\\shash\\anaconda3\\lib\\site-packages (from selenium) (1.26.16)\n",
      "Requirement already satisfied: trio-websocket~=0.9 in c:\\users\\shash\\anaconda3\\lib\\site-packages (from selenium) (0.9.2)\n",
      "Requirement already satisfied: certifi>=2021.10.8 in c:\\users\\shash\\anaconda3\\lib\\site-packages (from selenium) (2022.9.24)\n",
      "Requirement already satisfied: outcome in c:\\users\\shash\\anaconda3\\lib\\site-packages (from trio~=0.17->selenium) (1.2.0)\n",
      "Requirement already satisfied: idna in c:\\users\\shash\\anaconda3\\lib\\site-packages (from trio~=0.17->selenium) (2.10)\n",
      "Requirement already satisfied: exceptiongroup>=1.0.0rc9; python_version < \"3.11\" in c:\\users\\shash\\anaconda3\\lib\\site-packages (from trio~=0.17->selenium) (1.0.1)\n",
      "Requirement already satisfied: attrs>=19.2.0 in c:\\users\\shash\\anaconda3\\lib\\site-packages (from trio~=0.17->selenium) (20.3.0)\n",
      "Requirement already satisfied: sortedcontainers in c:\\users\\shash\\anaconda3\\lib\\site-packages (from trio~=0.17->selenium) (2.2.2)\n",
      "Requirement already satisfied: sniffio in c:\\users\\shash\\anaconda3\\lib\\site-packages (from trio~=0.17->selenium) (1.3.0)\n",
      "Requirement already satisfied: async-generator>=1.9 in c:\\users\\shash\\anaconda3\\lib\\site-packages (from trio~=0.17->selenium) (1.10)\n",
      "Requirement already satisfied: cffi>=1.14; os_name == \"nt\" and implementation_name != \"pypy\" in c:\\users\\shash\\anaconda3\\lib\\site-packages (from trio~=0.17->selenium) (1.14.3)\n",
      "Requirement already satisfied: PySocks!=1.5.7,<2.0,>=1.5.6; extra == \"socks\" in c:\\users\\shash\\anaconda3\\lib\\site-packages (from urllib3[socks]~=1.26->selenium) (1.7.1)\n",
      "Requirement already satisfied: wsproto>=0.14 in c:\\users\\shash\\anaconda3\\lib\\site-packages (from trio-websocket~=0.9->selenium) (1.2.0)\n",
      "Requirement already satisfied: pycparser in c:\\users\\shash\\anaconda3\\lib\\site-packages (from cffi>=1.14; os_name == \"nt\" and implementation_name != \"pypy\"->trio~=0.17->selenium) (2.20)\n",
      "Requirement already satisfied: h11<1,>=0.9.0 in c:\\users\\shash\\anaconda3\\lib\\site-packages (from wsproto>=0.14->trio-websocket~=0.9->selenium) (0.14.0)\n"
     ]
    }
   ],
   "source": [
    "! pip install selenium"
   ]
  },
  {
   "cell_type": "code",
   "execution_count": 94,
   "metadata": {},
   "outputs": [],
   "source": [
    "import selenium\n",
    "from selenium import webdriver\n",
    "import pandas as pd\n",
    "from selenium.webdriver.common.by import By\n",
    "import warnings\n",
    "warnings.filterwarnings(\"ignore\")\n",
    "import time\n",
    "from selenium.common.exceptions import StaleElementReferenceException, NoSuchElementException"
   ]
  },
  {
   "cell_type": "code",
   "execution_count": 95,
   "metadata": {},
   "outputs": [],
   "source": [
    "driver = webdriver.Chrome(r\"C:\\Users\\shash\\OneDrive\\Desktop\\chromedriver_win32\\chromedriver.exe\")"
   ]
  },
  {
   "cell_type": "code",
   "execution_count": 96,
   "metadata": {},
   "outputs": [],
   "source": [
    "url=\"https://www.amazon.in/\"\n",
    "driver.get(url)\n",
    "\n",
    "time.sleep(2)\n",
    "search_bar=driver.find_element(By.XPATH, '//*[@id=\"twotabsearchtextbox\"]')\n",
    "search_bar.send_keys(\"guitar\")\n",
    "\n",
    "time.sleep(2)\n",
    "\n",
    "button=driver.find_element(By.XPATH, \"//input[@id='nav-search-submit-button']\")\n",
    "button.click()"
   ]
  },
  {
   "cell_type": "code",
   "execution_count": 102,
   "metadata": {},
   "outputs": [],
   "source": [
    "brand=[]\n",
    "name_pr=[]\n",
    "rating=[]\n",
    "no_rating=[]\n",
    "price=[]\n",
    "re_ex=[]\n",
    "exp_del=[]\n",
    "avail=[]\n",
    "other_detail=[]\n",
    "\n",
    "\n",
    "for page in range(0,3):\n",
    "    \n",
    "    brands=driver.find_elements(By.XPATH,'//*[@id=\"productOverview_feature_div\"]/div/table/tbody/tr[1]')\n",
    "    for i in brands:\n",
    "        brand.append(i.text)\n",
    "  \n",
    "           \n",
    "    name_product=driver.find_elements(By.XPATH,'//*[@id=\"productTitle\"]')\n",
    "    for j in name_product:\n",
    "        name_pr.append(j.text)\n",
    "        \n",
    "    prices=driver.find_elements(By.XPATH,'//*[@id=\"corePrice_feature_div\"]/div/span[1]/span[2]/span[2]') \n",
    "    for k in prices:\n",
    "        price.append(k.text)\n",
    "    price[:100]"
   ]
  },
  {
   "cell_type": "code",
   "execution_count": 101,
   "metadata": {},
   "outputs": [],
   "source": [
    "page_urls=[]\n",
    "for page in range(0,3):\n",
    "    url1=driver.find_elements(By.XPATH,\"//a[@class='a-link-normal a-text-normal']\")\n",
    "    for t in url1:\n",
    "        page_urls.append(t.get_attribute('href'))\n",
    "    page_urls \n",
    "    \n",
    "    time.sleep(3)\n",
    "  #  for scraping no_rating\n",
    "    no_ratings=driver.find_elements(By.XPATH,'//a[@id=\"acrCustomerReviewLink\"]')\n",
    "    for l in no_ratings:\n",
    "        if l.text is None:\n",
    "            no_rating.append(\"--\")\n",
    "        else:\n",
    "            no_rating.append(l.text)\n",
    "     \n",
    "    time.sleep(3)\n",
    "  # for scraping rating\n",
    "    ratings=driver.find_elements(By.XPATH,'//span[@data-hook=\"acr-average-stars-rating-text\"]')\n",
    "    for m in ratings:\n",
    "        rating.append(m.text)\n",
    "        \n",
    "    time.sleep(2)   \n",
    "  # for scraping return/exchange   \n",
    "    return_ex= driver.find_elements(By.XPATH,'//a[@class=\"a-size-small a-link-normal a-text-normal\"]')\n",
    "    for n in return_ex:\n",
    "        re_ex.append(n.text)\n",
    "        \n",
    "    time.sleep(2)\n",
    "  # for scraping expected delivery\n",
    "    expec_del=driver.find_elements(By.XPATH,'//div[@id=\"ddmDeliveryMessage\"]')\n",
    "    for o in expec_del:\n",
    "        exp_del.append(o.text)\n",
    "        \n",
    "    time.sleep(2)   \n",
    "  # for scraing other detail\n",
    "    pr_detail=driver.find_elements(By.XPATH,'//hr[@aria-hidden=\"true\"]')\n",
    "    for p in pr_detail:\n",
    "        other_detail.append(p.text)\n",
    "        \n",
    "    time.sleep(2)    \n",
    "  # for scraping availability\n",
    "    pr_avail=driver.find_elements(By.XPATH,'//div[@id=\"availability\"]')\n",
    "    for q in pr_avail:\n",
    "        avail.append(q.text)\n",
    "        \n",
    "    time.sleep(2)"
   ]
  },
  {
   "cell_type": "code",
   "execution_count": 104,
   "metadata": {},
   "outputs": [
    {
     "data": {
      "text/html": [
       "<div>\n",
       "<style scoped>\n",
       "    .dataframe tbody tr th:only-of-type {\n",
       "        vertical-align: middle;\n",
       "    }\n",
       "\n",
       "    .dataframe tbody tr th {\n",
       "        vertical-align: top;\n",
       "    }\n",
       "\n",
       "    .dataframe thead th {\n",
       "        text-align: right;\n",
       "    }\n",
       "</style>\n",
       "<table border=\"1\" class=\"dataframe\">\n",
       "  <thead>\n",
       "    <tr style=\"text-align: right;\">\n",
       "      <th></th>\n",
       "      <th>Brand_name</th>\n",
       "      <th>Product_name</th>\n",
       "      <th>Ratings</th>\n",
       "      <th>No_ratings</th>\n",
       "      <th>Price</th>\n",
       "      <th>Return/Exchange</th>\n",
       "      <th>Expected_del</th>\n",
       "      <th>Availability</th>\n",
       "      <th>Other_detail</th>\n",
       "    </tr>\n",
       "  </thead>\n",
       "  <tbody>\n",
       "  </tbody>\n",
       "</table>\n",
       "</div>"
      ],
      "text/plain": [
       "Empty DataFrame\n",
       "Columns: [Brand_name, Product_name, Ratings, No_ratings, Price, Return/Exchange, Expected_del, Availability, Other_detail]\n",
       "Index: []"
      ]
     },
     "execution_count": 104,
     "metadata": {},
     "output_type": "execute_result"
    }
   ],
   "source": [
    "df_guitar=pd.DataFrame({'Brand_name':brand,\n",
    "                      'Product_name':name_pr,\n",
    "                      'Ratings':rating,\n",
    "                      'No_ratings':no_rating,\n",
    "                      'Price':price,\n",
    "                      'Return/Exchange':re_ex,\n",
    "                      'Expected_del':exp_del,\n",
    "                      'Availability':avail,\n",
    "                      'Other_detail':other_detail})\n",
    "df_guitar"
   ]
  },
  {
   "cell_type": "code",
   "execution_count": 105,
   "metadata": {},
   "outputs": [],
   "source": [
    "driver = webdriver.Chrome(r\"C:\\Users\\shash\\OneDrive\\Desktop\\chromedriver_win32\\chromedriver.exe\")"
   ]
  },
  {
   "cell_type": "code",
   "execution_count": 124,
   "metadata": {},
   "outputs": [],
   "source": [
    "url = \"https://www.google.com\"\n",
    "driver.get(url)"
   ]
  },
  {
   "cell_type": "code",
   "execution_count": 125,
   "metadata": {},
   "outputs": [
    {
     "data": {
      "text/plain": [
       "[<selenium.webdriver.remote.webelement.WebElement (session=\"6c3e62043b36ffca72aa0cf1ec056c44\", element=\"35A195E1476B2141C5F189D80E907AC1_element_436\")>]"
      ]
     },
     "execution_count": 125,
     "metadata": {},
     "output_type": "execute_result"
    }
   ],
   "source": [
    "search_bar = driver.find_elements(By.XPATH, '//*[@id=\"APjFqb\"]')\n",
    "search_bar"
   ]
  },
  {
   "cell_type": "code",
   "execution_count": 126,
   "metadata": {},
   "outputs": [],
   "source": [
    "search_bar=driver.find_element(By.XPATH, '//*[@id=\"APjFqb\"]')\n",
    "search_bar.send_keys(\"cakes\")"
   ]
  },
  {
   "cell_type": "code",
   "execution_count": 129,
   "metadata": {},
   "outputs": [],
   "source": [
    "search_btn = driver.find_element(By.XPATH,'/html/body/div[1]/div[3]/form/div[1]/div[1]/div[2]/div[2]/div[5]/center/input[1]')\n",
    "search_btn.click()"
   ]
  },
  {
   "cell_type": "code",
   "execution_count": 130,
   "metadata": {},
   "outputs": [],
   "source": [
    "button=driver.find_element(By.XPATH, '/html/body/div[6]/div/div[5]/div/div/div/div[1]/div/a[1]/div')\n",
    "button.click()"
   ]
  },
  {
   "cell_type": "code",
   "execution_count": 134,
   "metadata": {},
   "outputs": [],
   "source": [
    "for _ in range(20):\n",
    "    driver.execute_script(\"window.scrollBy(0,10)\")\n",
    "\n",
    "images =driver.find_elements(By.XPATH,'//*[@id=\"islrg\"]/div[1]/div[2]/a[2]/div[2]')\n",
    "\n",
    "img_urls =[]\n",
    "img_data =[]\n",
    "\n",
    "for images in images:\n",
    "    source= images.get_attribute('src')\n",
    "    if source is not None:\n",
    "        if (source[0:4] == 'http'):\n",
    "            img_urls.append(source)\n",
    "            \n",
    "for i in range(len(img_urls)):\n",
    "    if i>10:\n",
    "        breakBy.XPATH,\n",
    "    print(\"Downloading{0} of  {1} images\" .format(i,10))\n",
    "    response= request.get(img_urls[i])\n",
    "    file= open (r\"C:\\Users\\shash\\OneDrive\\Pictures\" +str(i)+\"jpg\", \"wb\")\n",
    "    file.write(response.content)"
   ]
  },
  {
   "cell_type": "code",
   "execution_count": 146,
   "metadata": {},
   "outputs": [],
   "source": [
    "driver = webdriver.Chrome(r\"C:\\Users\\shash\\OneDrive\\Desktop\\chromedriver_win32\\chromedriver.exe\")"
   ]
  },
  {
   "cell_type": "code",
   "execution_count": 147,
   "metadata": {},
   "outputs": [],
   "source": [
    "url=\"https://www.flipkart.com/\"\n",
    "driver.get(url)"
   ]
  },
  {
   "cell_type": "code",
   "execution_count": 148,
   "metadata": {},
   "outputs": [
    {
     "data": {
      "text/plain": [
       "<selenium.webdriver.remote.webelement.WebElement (session=\"1edf3231eeb0aa0074c4b6dbe10c999f\", element=\"0174A1EBBB72C8D30C615326F362769E_element_121\")>"
      ]
     },
     "execution_count": 148,
     "metadata": {},
     "output_type": "execute_result"
    }
   ],
   "source": [
    "search_g= driver.find_element(By.XPATH,'/html/body/div/div/div[1]/div[1]/div[2]/div[2]/form/div/div/input')\n",
    "search_g"
   ]
  },
  {
   "cell_type": "code",
   "execution_count": 149,
   "metadata": {},
   "outputs": [],
   "source": [
    "search_g.send_keys('Oneplus Nord')"
   ]
  },
  {
   "cell_type": "code",
   "execution_count": 150,
   "metadata": {},
   "outputs": [
    {
     "data": {
      "text/plain": [
       "<selenium.webdriver.remote.webelement.WebElement (session=\"1edf3231eeb0aa0074c4b6dbe10c999f\", element=\"0174A1EBBB72C8D30C615326F362769E_element_151\")>"
      ]
     },
     "execution_count": 150,
     "metadata": {},
     "output_type": "execute_result"
    }
   ],
   "source": [
    "search_btn=driver.find_element(By.XPATH,\"//button[@class='L0Z3Pu']\")\n",
    "search_btn"
   ]
  },
  {
   "cell_type": "code",
   "execution_count": 153,
   "metadata": {},
   "outputs": [],
   "source": [
    "search_btn=driver.find_element(By.CLASS_NAME,\"L0Z3Pu\")\n",
    "search_btn.click()"
   ]
  },
  {
   "cell_type": "code",
   "execution_count": 157,
   "metadata": {},
   "outputs": [
    {
     "ename": "MemoryError",
     "evalue": "",
     "output_type": "error",
     "traceback": [
      "\u001b[1;31m---------------------------------------------------------------------------\u001b[0m",
      "\u001b[1;31mMemoryError\u001b[0m                               Traceback (most recent call last)",
      "\u001b[1;32m<ipython-input-157-3121e58a50bd>\u001b[0m in \u001b[0;36m<module>\u001b[1;34m\u001b[0m\n\u001b[0;32m     14\u001b[0m     \u001b[0mph_name\u001b[0m\u001b[1;33m=\u001b[0m\u001b[0mdriver\u001b[0m\u001b[1;33m.\u001b[0m\u001b[0mfind_elements\u001b[0m\u001b[1;33m(\u001b[0m\u001b[0mBy\u001b[0m\u001b[1;33m.\u001b[0m\u001b[0mXPATH\u001b[0m\u001b[1;33m,\u001b[0m\u001b[1;34m'/html/body/div[1]/div/div[3]/div[1]/div[2]/div[23]/div/div/div/a/div[2]/div[1]/div[1]'\u001b[0m\u001b[1;33m)\u001b[0m\u001b[1;33m\u001b[0m\u001b[1;33m\u001b[0m\u001b[0m\n\u001b[0;32m     15\u001b[0m     \u001b[1;32mfor\u001b[0m \u001b[0mj\u001b[0m \u001b[1;32min\u001b[0m \u001b[0mph_name\u001b[0m\u001b[1;33m:\u001b[0m\u001b[1;33m\u001b[0m\u001b[1;33m\u001b[0m\u001b[0m\n\u001b[1;32m---> 16\u001b[1;33m         \u001b[0mph_name\u001b[0m\u001b[1;33m.\u001b[0m\u001b[0mappend\u001b[0m\u001b[1;33m(\u001b[0m\u001b[1;34m\"--\"\u001b[0m\u001b[1;33m)\u001b[0m\u001b[1;33m\u001b[0m\u001b[1;33m\u001b[0m\u001b[0m\n\u001b[0m\u001b[0;32m     17\u001b[0m \u001b[1;33m\u001b[0m\u001b[0m\n\u001b[0;32m     18\u001b[0m     \u001b[0mprices\u001b[0m\u001b[1;33m=\u001b[0m\u001b[0mdriver\u001b[0m\u001b[1;33m.\u001b[0m\u001b[0mfind_elements\u001b[0m\u001b[1;33m(\u001b[0m\u001b[0mBy\u001b[0m\u001b[1;33m.\u001b[0m\u001b[0mXPATH\u001b[0m\u001b[1;33m,\u001b[0m\u001b[1;34m'//*[@id=\"container\"]/div/div[3]/div[1]/div[2]/div[2]/div/div/div/a/div[2]/div[2]/div[1]/div[1]/div[1]'\u001b[0m\u001b[1;33m)\u001b[0m\u001b[1;33m\u001b[0m\u001b[1;33m\u001b[0m\u001b[0m\n",
      "\u001b[1;31mMemoryError\u001b[0m: "
     ]
    }
   ],
   "source": [
    "b_name=[]\n",
    "ph_name=[]\n",
    "color=[]\n",
    "ram=[]\n",
    "s_rom=[]\n",
    "\n",
    "for page in range(0,3):\n",
    "    \n",
    "    brands=driver.find_elements(By.XPATH,'//*[@id=\"container\"]/div/div[3]/div[1]/div[2]/div[3]/div/div/div/a/div[3]/div[1]/div[1]')\n",
    "    for i in brands:\n",
    "        brand.append(i.text)\n",
    "  \n",
    "           \n",
    "    ph_name=driver.find_elements(By.XPATH,'/html/body/div[1]/div/div[3]/div[1]/div[2]/div[23]/div/div/div/a/div[2]/div[1]/div[1]')\n",
    "    for j in ph_name:\n",
    "        ph_name.append(\"--\")\n",
    "        \n",
    "    prices=driver.find_elements(By.XPATH,'//*[@id=\"container\"]/div/div[3]/div[1]/div[2]/div[2]/div/div/div/a/div[2]/div[2]/div[1]/div[1]/div[1]') \n",
    "    for k in prices:\n",
    "        price.append(k.text)\n",
    "    price[:100]\n",
    "    color=driver.find_elements(By.XPATH,'//*[@id=\"container\"]/div/div[3]/div[1]/div[2]/div[3]/div/div/div/a/div[3]/div[1]/div[1]')\n",
    "    for l in color:\n",
    "        color.append(l.text)\n",
    "    ram=driver.find_elements(By.XPATH,'//*[@id=\"container\"]/div/div[3]/div[1]/div[2]/div[23]/div/div/div/a/div[2]/div[1]/div[3]/ul/li[1]')\n",
    "    for m in ram:\n",
    "        ram.append(m.text)\n",
    "    s_rom=driver.find_elements(By.XPATH,'//*[@id=\"container\"]/div/div[3]/div[1]/div[2]/div[23]/div/div/div/a/div[2]/div[1]/div[3]/ul/li[1]')\n",
    "    for n in s_rom:\n",
    "        s_rom.append(n.text)"
   ]
  },
  {
   "cell_type": "code",
   "execution_count": null,
   "metadata": {},
   "outputs": [],
   "source": [
    "df_guitar=pd.DataFrame({'Brand_name':brand,\n",
    "                      'Product_name':ph_name,\n",
    "                        'Color' : color,\n",
    "                        'RAM' : ram,\n",
    "                        's_rom' : rom})"
   ]
  },
  {
   "cell_type": "code",
   "execution_count": 158,
   "metadata": {},
   "outputs": [],
   "source": [
    "driver = webdriver.Chrome(r\"C:\\Users\\shash\\OneDrive\\Desktop\\chromedriver_win32\\chromedriver.exe\")"
   ]
  },
  {
   "cell_type": "code",
   "execution_count": 160,
   "metadata": {},
   "outputs": [],
   "source": [
    "url=\"https://www.google.com/maps\"\n",
    "driver.get(url)"
   ]
  },
  {
   "cell_type": "code",
   "execution_count": 161,
   "metadata": {},
   "outputs": [
    {
     "data": {
      "text/plain": [
       "<selenium.webdriver.remote.webelement.WebElement (session=\"39898ba2a2b164d40fd9e092892def93\", element=\"7668074DAED4FFCA1ABE22D0675A6B79_element_94\")>"
      ]
     },
     "execution_count": 161,
     "metadata": {},
     "output_type": "execute_result"
    }
   ],
   "source": [
    "search_g= driver.find_element(By.XPATH,'//*[@id=\"searchboxinput\"]')\n",
    "search_g"
   ]
  },
  {
   "cell_type": "code",
   "execution_count": 162,
   "metadata": {},
   "outputs": [],
   "source": [
    "search_g.send_keys('Gurgaon')"
   ]
  },
  {
   "cell_type": "code",
   "execution_count": 163,
   "metadata": {},
   "outputs": [
    {
     "data": {
      "text/plain": [
       "<selenium.webdriver.remote.webelement.WebElement (session=\"39898ba2a2b164d40fd9e092892def93\", element=\"7668074DAED4FFCA1ABE22D0675A6B79_element_92\")>"
      ]
     },
     "execution_count": 163,
     "metadata": {},
     "output_type": "execute_result"
    }
   ],
   "source": [
    "search_btn=driver.find_element(By.XPATH,'//*[@id=\"searchbox-searchbutton\"]')\n",
    "search_btn"
   ]
  },
  {
   "cell_type": "code",
   "execution_count": 164,
   "metadata": {},
   "outputs": [],
   "source": [
    "search_btn=driver.find_element(By.XPATH,'//*[@id=\"searchbox-searchbutton\"]')\n",
    "search_btn.click()"
   ]
  },
  {
   "cell_type": "code",
   "execution_count": 167,
   "metadata": {},
   "outputs": [
    {
     "ename": "SyntaxError",
     "evalue": "unexpected EOF while parsing (<ipython-input-167-43128a6bf7c7>, line 4)",
     "output_type": "error",
     "traceback": [
      "\u001b[1;36m  File \u001b[1;32m\"<ipython-input-167-43128a6bf7c7>\"\u001b[1;36m, line \u001b[1;32m4\u001b[0m\n\u001b[1;33m    lat_lng = re.findal(r'@(.*)data',url_string)\u001b[0m\n\u001b[1;37m                                                ^\u001b[0m\n\u001b[1;31mSyntaxError\u001b[0m\u001b[1;31m:\u001b[0m unexpected EOF while parsing\n"
     ]
    }
   ],
   "source": [
    "try:\n",
    "    url_string= driver.currennt_url\n",
    "    print(\"URL Extracted:\", url_string)\n",
    "    lat_lng = re.findal(r'@(.*)data',url_string)"
   ]
  },
  {
   "cell_type": "code",
   "execution_count": null,
   "metadata": {},
   "outputs": [],
   "source": []
  }
 ],
 "metadata": {
  "kernelspec": {
   "display_name": "Python 3",
   "language": "python",
   "name": "python3"
  },
  "language_info": {
   "codemirror_mode": {
    "name": "ipython",
    "version": 3
   },
   "file_extension": ".py",
   "mimetype": "text/x-python",
   "name": "python",
   "nbconvert_exporter": "python",
   "pygments_lexer": "ipython3",
   "version": "3.8.5"
  }
 },
 "nbformat": 4,
 "nbformat_minor": 4
}
